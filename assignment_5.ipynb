{
 "cells": [
  {
   "cell_type": "markdown",
   "id": "22b5b7c9-c954-4294-8727-16eb0c5f8b44",
   "metadata": {},
   "source": [
    "##  Question 1 Convert 1D Array Into 2D Array You are given a **0-indexed** 1-dimensional (1D) integer array original, and two integers, m and n. You are tasked with creating a 2-dimensional (2D) array with  m rows and n columns using **all** the elements from original.The elements from indices 0 to n - 1 (**inclusive**) of original should form the first row of the constructed 2D array, the elements from indices n to 2 * n - 1 (**inclusive**) should form the second row of the constructed 2D array, and so on. Return *an* m x n *2D array constructed according to the above procedure, or an empty 2D array if it is impossible."
   ]
  },
  {
   "cell_type": "code",
   "execution_count": 1,
   "id": "3104ac5f-ab92-42a1-9274-00e3a2b4b390",
   "metadata": {},
   "outputs": [],
   "source": [
    "from typing import List, Tuple\n",
    "class Solution:\n",
    "    def construct2DArray(self, original: List[int], m: int, n: int) -> List[List[int]]:\n",
    "        ans = []\n",
    "        if len(original) == m*n: \n",
    "            for i in range(0, len(original), n): \n",
    "                ans.append(original[i:i+n])\n",
    "        return ans "
   ]
  },
  {
   "cell_type": "code",
   "execution_count": 2,
   "id": "13b83ef3-04fa-4a25-8a69-a7ef19a9cc19",
   "metadata": {},
   "outputs": [
    {
     "data": {
      "text/plain": [
       "[[1, 2], [3, 4]]"
      ]
     },
     "execution_count": 2,
     "metadata": {},
     "output_type": "execute_result"
    }
   ],
   "source": [
    "co=Solution()\n",
    "co.construct2DArray([1,2,3,4],2,2)"
   ]
  },
  {
   "cell_type": "markdown",
   "id": "3b290474-47d9-450d-98aa-a09e1bf22a46",
   "metadata": {},
   "source": [
    "##  Question 2** You have n coins and you want to build a staircase with these coins. The staircase consists of k rows where the ith row has exactly i coins. The last row of the staircase **may be** incomplete.Given the integer n, return *the number of **complete rows** of the staircase you will build*."
   ]
  },
  {
   "cell_type": "code",
   "execution_count": 3,
   "id": "a33732fd-d593-46ed-b26f-aea0273cf083",
   "metadata": {},
   "outputs": [],
   "source": [
    "import math\n",
    "class Solution:\n",
    "    def arrangeCoins(self, n: int) -> int:\n",
    "        return int(math.sqrt(2 * n + 0.25) - 0.50)"
   ]
  },
  {
   "cell_type": "code",
   "execution_count": 4,
   "id": "00b5b955-56f8-42fe-a5ab-e895f241d7c2",
   "metadata": {},
   "outputs": [
    {
     "data": {
      "text/plain": [
       "2"
      ]
     },
     "execution_count": 4,
     "metadata": {},
     "output_type": "execute_result"
    }
   ],
   "source": [
    "ac=Solution()\n",
    "ac.arrangeCoins(5)"
   ]
  },
  {
   "cell_type": "markdown",
   "id": "e2885d13-2ec8-4131-9dcf-2d22dca8b0fb",
   "metadata": {},
   "source": [
    "##  Question 3 Given an integer array nums sorted in **non-decreasing** order, return *an array of **the squares of each number** sorted in non-decreasing order*."
   ]
  },
  {
   "cell_type": "code",
   "execution_count": 5,
   "id": "05748471-400e-43a7-964c-22cffcd7fbd8",
   "metadata": {},
   "outputs": [],
   "source": [
    "class Solution:\n",
    "    def sortedSquares(self, nums: List[int]) -> List[int]:\n",
    "        a=[i*i for i in nums]\n",
    "        return sorted(a)"
   ]
  },
  {
   "cell_type": "code",
   "execution_count": 6,
   "id": "4dca4202-20cb-4278-8476-aa52038b7d8b",
   "metadata": {},
   "outputs": [
    {
     "data": {
      "text/plain": [
       "[0, 1, 9, 16, 100]"
      ]
     },
     "execution_count": 6,
     "metadata": {},
     "output_type": "execute_result"
    }
   ],
   "source": [
    "ss=Solution()\n",
    "ss.sortedSquares([-4,-1,0,3,10])"
   ]
  },
  {
   "cell_type": "markdown",
   "id": "a376111f-60c5-41a7-b09c-90afd4d19b8f",
   "metadata": {},
   "source": [
    "##  Question 4 Given two **0-indexed** integer arrays nums1 and nums2, return *a list* answer *of size* 2 *where:* - answer[0] *is a list of all **distinct** integers in* nums1 *which are **not** present in* nums2*.* - answer[1] *is a list of all **distinct** integers in* nums2 *which are **not** present in* nums1. **Note** that the integers in the lists may be returned in **any** order."
   ]
  },
  {
   "cell_type": "code",
   "execution_count": 7,
   "id": "66cf8d0e-ac77-4ddf-8273-62d5b134f115",
   "metadata": {},
   "outputs": [],
   "source": [
    "class Solution:\n",
    "    def findDifference(self, nums1: List[int], nums2: List[int]) -> List[List[int]]:\n",
    "        n1=set(nums1)\n",
    "        n2=set(nums2)\n",
    "        r1=list(set(x for x in nums1 if x not in n2))\n",
    "        r2=list(set(x for x in nums2 if x not in n1))\n",
    "        return [r1,r2]"
   ]
  },
  {
   "cell_type": "code",
   "execution_count": 8,
   "id": "fd29d6b5-ff2f-47d1-92dd-4cf4f7f50422",
   "metadata": {},
   "outputs": [
    {
     "data": {
      "text/plain": [
       "[[1, 3], [4, 6]]"
      ]
     },
     "execution_count": 8,
     "metadata": {},
     "output_type": "execute_result"
    }
   ],
   "source": [
    "fd=Solution()\n",
    "fd.findDifference([1,2,3],[2,4,6])"
   ]
  },
  {
   "cell_type": "markdown",
   "id": "7048a3dd-c38c-4ed4-9f35-42c5b96bff20",
   "metadata": {},
   "source": [
    "##  Question 5 Given two integer arrays arr1 and arr2, and the integer d, *return the distance value between the two arrays*. The distance value is defined as the number of elements arr1[i] such that there is not any element arr2[j] where |arr1[i]-arr2[j]| <= d."
   ]
  },
  {
   "cell_type": "code",
   "execution_count": 9,
   "id": "80193b9a-e559-44cb-92f3-ad4ea386fafb",
   "metadata": {},
   "outputs": [],
   "source": [
    "class Solution:\n",
    "    def findTheDistanceValue(self, arr1: List[int], arr2: List[int], d: int) -> int:\n",
    "        count=0\n",
    "        for i in arr1:\n",
    "            for j in arr2:\n",
    "                if abs(i-j)<=d:\n",
    "                    count+=1\n",
    "                    break\n",
    "        return len(arr1)-count"
   ]
  },
  {
   "cell_type": "code",
   "execution_count": 10,
   "id": "47a47fb3-8454-44b0-8f39-32ea290c52d5",
   "metadata": {},
   "outputs": [
    {
     "data": {
      "text/plain": [
       "2"
      ]
     },
     "execution_count": 10,
     "metadata": {},
     "output_type": "execute_result"
    }
   ],
   "source": [
    "fdv=Solution()\n",
    "fdv.findTheDistanceValue([4,5,8],[10,9,1,8],2)"
   ]
  },
  {
   "cell_type": "markdown",
   "id": "fbd89d2c-1250-4a65-b20f-27d452d201ae",
   "metadata": {},
   "source": [
    "##  Question 6 Given an integer array nums of length n where all the integers of nums are in the range [1, n] and each integer appears **once** or **twice**, return *an array of all the integers that appears **twice***. You must write an algorithm that runs in O(n) time and uses only constant extra space."
   ]
  },
  {
   "cell_type": "code",
   "execution_count": 11,
   "id": "8dbec8a1-2d3d-429a-a544-b6e5b591f706",
   "metadata": {},
   "outputs": [],
   "source": [
    "class Solution:\n",
    "    def findDuplicates(self, nums: List[int]) -> List[int]:\n",
    "        ans = []\n",
    "        for i in range(len(nums)):\n",
    "            if nums[abs(nums[i])-1]>0:\n",
    "                nums[abs(nums[i])-1] = -nums[abs(nums[i])-1]\n",
    "            else:\n",
    "                ans.append(abs(nums[i]))\n",
    "        return ans"
   ]
  },
  {
   "cell_type": "code",
   "execution_count": 12,
   "id": "046e0291-829b-4c91-944c-d192184ec895",
   "metadata": {},
   "outputs": [
    {
     "data": {
      "text/plain": [
       "[2, 3]"
      ]
     },
     "execution_count": 12,
     "metadata": {},
     "output_type": "execute_result"
    }
   ],
   "source": [
    "fd=Solution()\n",
    "fd.findDuplicates([4,3,2,7,8,2,3,1])"
   ]
  },
  {
   "cell_type": "markdown",
   "id": "b08c3ea0-20a9-4c4e-baf9-4e377cd26c95",
   "metadata": {},
   "source": [
    "##  Question 7 Suppose an array of length n sorted in ascending order is **rotated** between 1 and n times. For example, the array nums = [0,1,2,4,5,6,7] might become: - [4,5,6,7,0,1,2] if it was rotated 4 times. - [0,1,2,4,5,6,7] if it was rotated 7 times. Notice that **rotating** an array [a[0], a[1], a[2], ..., a[n-1]] 1 time results in the array [a[n-1], a[0], a[1], a[2], ..., a[n-2]]. Given the sorted rotated array nums of **unique** elements, return *the minimum element of this array*. You must write an algorithm that runs in O(log n) time."
   ]
  },
  {
   "cell_type": "code",
   "execution_count": 13,
   "id": "438b3927-77dd-4be4-a885-2c3bfa878c55",
   "metadata": {},
   "outputs": [],
   "source": [
    "class Solution:\n",
    "    def findMin(self, nums: List[int]) -> int:\n",
    "        low=0\n",
    "        high=len(nums)-1\n",
    "        res=nums[0]\n",
    "        while low<=high:\n",
    "            if nums[low]<nums[high]:\n",
    "                res=min(res,nums[low])\n",
    "                break\n",
    "            mid=(low+high)//2\n",
    "            res=min(res,nums[mid])\n",
    "            if nums[mid]>=nums[low]:\n",
    "                low=mid+1\n",
    "            else:\n",
    "                high=mid-1\n",
    "        return res"
   ]
  },
  {
   "cell_type": "code",
   "execution_count": 15,
   "id": "da32a167-5d93-4bd1-aa37-46dc6db04ec7",
   "metadata": {},
   "outputs": [
    {
     "data": {
      "text/plain": [
       "1"
      ]
     },
     "execution_count": 15,
     "metadata": {},
     "output_type": "execute_result"
    }
   ],
   "source": [
    "f=Solution()\n",
    "f.findMin([3,4,5,1,2])"
   ]
  },
  {
   "cell_type": "markdown",
   "id": "f2d74ec2-0912-4c2e-81b1-f9c7f837cf09",
   "metadata": {},
   "source": [
    "##  Question 8 An integer array original is transformed into a **doubled** array changed by appending **twice the value** of every element in original, and then randomly **shuffling** the resulting array. Given an array changed, return original *if* changed *is a **doubled** array. If* changed *is not a **doubled** array, return an empty array. The elements in* original *may be returned in **any** order*."
   ]
  },
  {
   "cell_type": "code",
   "execution_count": 16,
   "id": "03c845b8-fdf4-42ee-ba6a-157b59a13fc4",
   "metadata": {},
   "outputs": [],
   "source": [
    "class Solution:\n",
    "    def findOriginalArray(self, changed: List[int]) -> List[int]:\n",
    "        if len(changed) % 2 == 1:\n",
    "            return []\n",
    "        data = Counter(changed)\n",
    "        result = []\n",
    "        for k in sorted(data):\n",
    "            if data[k] < 0:\n",
    "                return []\n",
    "            elif k == 0:\n",
    "                x, y = divmod(data[k], 2)\n",
    "                if y == 1:\n",
    "                    return []\n",
    "                result += [0] * x\n",
    "            elif data[k] > 0:\n",
    "                value = k * 2\n",
    "                if data[value] == 0:\n",
    "                    return []\n",
    "                min_value = min(value, data[k])\n",
    "                result += [k] * min_value\n",
    "                data[k] -= min_value\n",
    "                data[value] -= min_value\n",
    "        return result"
   ]
  },
  {
   "cell_type": "code",
   "execution_count": 17,
   "id": "f26c1492-a5a6-4b3d-95e0-d916b24a1cc0",
   "metadata": {},
   "outputs": [
    {
     "ename": "NameError",
     "evalue": "name 'Counter' is not defined",
     "output_type": "error",
     "traceback": [
      "\u001b[0;31m---------------------------------------------------------------------------\u001b[0m",
      "\u001b[0;31mNameError\u001b[0m                                 Traceback (most recent call last)",
      "Cell \u001b[0;32mIn[17], line 2\u001b[0m\n\u001b[1;32m      1\u001b[0m fd\u001b[38;5;241m=\u001b[39mSolution()\n\u001b[0;32m----> 2\u001b[0m \u001b[43mfd\u001b[49m\u001b[38;5;241;43m.\u001b[39;49m\u001b[43mfindOriginalArray\u001b[49m\u001b[43m(\u001b[49m\u001b[43m[\u001b[49m\u001b[38;5;241;43m1\u001b[39;49m\u001b[43m,\u001b[49m\u001b[38;5;241;43m3\u001b[39;49m\u001b[43m,\u001b[49m\u001b[38;5;241;43m4\u001b[39;49m\u001b[43m,\u001b[49m\u001b[38;5;241;43m2\u001b[39;49m\u001b[43m,\u001b[49m\u001b[38;5;241;43m6\u001b[39;49m\u001b[43m,\u001b[49m\u001b[38;5;241;43m8\u001b[39;49m\u001b[43m]\u001b[49m\u001b[43m)\u001b[49m\n",
      "Cell \u001b[0;32mIn[16], line 5\u001b[0m, in \u001b[0;36mSolution.findOriginalArray\u001b[0;34m(self, changed)\u001b[0m\n\u001b[1;32m      3\u001b[0m \u001b[38;5;28;01mif\u001b[39;00m \u001b[38;5;28mlen\u001b[39m(changed) \u001b[38;5;241m%\u001b[39m \u001b[38;5;241m2\u001b[39m \u001b[38;5;241m==\u001b[39m \u001b[38;5;241m1\u001b[39m:\n\u001b[1;32m      4\u001b[0m     \u001b[38;5;28;01mreturn\u001b[39;00m []\n\u001b[0;32m----> 5\u001b[0m data \u001b[38;5;241m=\u001b[39m \u001b[43mCounter\u001b[49m(changed)\n\u001b[1;32m      6\u001b[0m result \u001b[38;5;241m=\u001b[39m []\n\u001b[1;32m      7\u001b[0m \u001b[38;5;28;01mfor\u001b[39;00m k \u001b[38;5;129;01min\u001b[39;00m \u001b[38;5;28msorted\u001b[39m(data):\n",
      "\u001b[0;31mNameError\u001b[0m: name 'Counter' is not defined"
     ]
    }
   ],
   "source": [
    "fd=Solution()\n",
    "fd.findOriginalArray([1,3,4,2,6,8])"
   ]
  },
  {
   "cell_type": "code",
   "execution_count": null,
   "id": "a96889ea-7dc4-4fc7-9a6e-fc38ac57fb08",
   "metadata": {},
   "outputs": [],
   "source": []
  }
 ],
 "metadata": {
  "kernelspec": {
   "display_name": "Python 3 (ipykernel)",
   "language": "python",
   "name": "python3"
  },
  "language_info": {
   "codemirror_mode": {
    "name": "ipython",
    "version": 3
   },
   "file_extension": ".py",
   "mimetype": "text/x-python",
   "name": "python",
   "nbconvert_exporter": "python",
   "pygments_lexer": "ipython3",
   "version": "3.10.8"
  }
 },
 "nbformat": 4,
 "nbformat_minor": 5
}
