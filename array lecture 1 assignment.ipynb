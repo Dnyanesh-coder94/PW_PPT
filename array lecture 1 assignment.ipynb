{
 "cells": [
  {
   "cell_type": "markdown",
   "id": "c1b31c25-ee91-425d-b531-a2e79b15d9f6",
   "metadata": {},
   "source": [
    "## Q1. Given an array of integers nums and an integer target, return indices of the two numbers such that they add up to target. You may assume that each input would have exactly one solution, and you may not use the same element twice. You can return the answer in any order."
   ]
  },
  {
   "cell_type": "code",
   "execution_count": 1,
   "id": "f156bf12-8f79-43d3-9385-14e59cca1ecd",
   "metadata": {},
   "outputs": [],
   "source": [
    "from typing import List, Tuple\n",
    "\n",
    "def twosum_indices_linear(nums: List[int], target: int) -> Tuple[int, int]:\n",
    "    numtoindexmap = {}\n",
    "    for num1_index, num1 in enumerate(nums):\n",
    "        num2 = target - num1\n",
    "        try:\n",
    "            num2_index = numtoindexmap[num2]\n",
    "        except KeyError:\n",
    "            numtoindexmap[num1] = num1_index  \n",
    "            # Note: Use `numtoindexmap.setdefault(num1, num1_index)` instead for lowest num1_index.\n",
    "        else:\n",
    "            return tuple(sorted([num1_index, num2_index]))"
   ]
  },
  {
   "cell_type": "code",
   "execution_count": 2,
   "id": "7b4d0b62-99a9-45a6-b509-a44a45e313ae",
   "metadata": {},
   "outputs": [
    {
     "name": "stdout",
     "output_type": "stream",
     "text": [
      "(0, 1)\n"
     ]
    }
   ],
   "source": [
    "print(twosum_indices_linear([2, 7, 11, 15], 9))"
   ]
  },
  {
   "cell_type": "markdown",
   "id": "9564fa7b-99dc-4ce6-8f49-9c062fada8a4",
   "metadata": {},
   "source": [
    "## Q2. Given an integer array nums and an integer val, remove all occurrences of val in nums in-place. The order of the elements may be changed. Then return the number of elements in nums which are not equal to val.\n",
    "##  Consider the number of elements in nums which are not equal to val be k, to get accepted, you need to do the following things:\n",
    "\n",
    "##  - Change the array nums such that the first k elements of nums contain the elements which are not equal to val. The remaining elements of nums are not important as well as the size of nums.\n",
    "## - Return k.\n"
   ]
  },
  {
   "cell_type": "code",
   "execution_count": 3,
   "id": "fcee748d-9c79-47b9-ab91-c3b6ac1d23dd",
   "metadata": {},
   "outputs": [],
   "source": [
    "def removeElement(nums: List[int], val: int) -> int:\n",
    "    count = 0;\n",
    "    for i in nums:\n",
    "        if nums[i] == val:\n",
    "            temp = nums[count]\n",
    "            nums[count] = nums[i]\n",
    "            nums[i] = temp\n",
    "\n",
    "            count=count+1\n",
    "    nums = nums[count:]\n",
    "    return len(nums)"
   ]
  },
  {
   "cell_type": "code",
   "execution_count": 4,
   "id": "11937d10-8820-4894-85cb-7160b2d4dfab",
   "metadata": {},
   "outputs": [
    {
     "data": {
      "text/plain": [
       "2"
      ]
     },
     "execution_count": 4,
     "metadata": {},
     "output_type": "execute_result"
    }
   ],
   "source": [
    "removeElement([3,2,2,3],3)"
   ]
  },
  {
   "cell_type": "markdown",
   "id": "22433299-2675-4192-a9f8-fd0067973943",
   "metadata": {},
   "source": [
    "##  Q3. Given a sorted array of distinct integers and a target value, return the index if the target is found. If not, return the index where it would be if it were inserted in order. You must write an algorithm with O(log n) runtime complexity."
   ]
  },
  {
   "cell_type": "code",
   "execution_count": 5,
   "id": "04936130-3f85-4b80-899f-749d0f4596bc",
   "metadata": {},
   "outputs": [],
   "source": [
    "def find_index(arr, n, K):\n",
    " \n",
    "    # Lower and upper bounds\n",
    "    start = 0\n",
    "    end = n - 1\n",
    " \n",
    "    # Traverse the search space\n",
    "    while start<= end:\n",
    " \n",
    "        mid =(start + end)//2\n",
    " \n",
    "        if arr[mid] == K:\n",
    "            return mid\n",
    " \n",
    "        elif arr[mid] < K:\n",
    "            start = mid + 1\n",
    "        else:\n",
    "            end = mid-1\n",
    " \n",
    "    # Return the insert position\n",
    "    return end + 1\n",
    " \n",
    "# Driver Code\n",
    "arr = [1, 3, 5, 6]\n",
    "n = len(arr)\n",
    "K = 5"
   ]
  },
  {
   "cell_type": "code",
   "execution_count": 6,
   "id": "16772116-72f3-44a3-97df-65bd6fbe144e",
   "metadata": {},
   "outputs": [
    {
     "data": {
      "text/plain": [
       "2"
      ]
     },
     "execution_count": 6,
     "metadata": {},
     "output_type": "execute_result"
    }
   ],
   "source": [
    "find_index(arr, n, K)"
   ]
  },
  {
   "cell_type": "markdown",
   "id": "86a70a51-f8d0-49f3-8e72-172b4d4e35b4",
   "metadata": {},
   "source": [
    "##  Q4.You are given a large integer represented as an integer array digits, where each digits[i] is the ith digit of the integer. The digits are ordered from most significant to least significant in left-to-right order. The large integer does not contain any leading 0's. Increment the large integer by one and return the resulting array of digits."
   ]
  },
  {
   "cell_type": "code",
   "execution_count": 7,
   "id": "34d90817-026d-4cdf-944d-07d3c9d02519",
   "metadata": {},
   "outputs": [
    {
     "name": "stdout",
     "output_type": "stream",
     "text": [
      "1 2 4 "
     ]
    }
   ],
   "source": [
    "def AddOne(digits):\n",
    "    \n",
    "    # initialize an index (digit of units)\n",
    "    index = len(digits) - 1\n",
    "      \n",
    "    # while the index is valid and the value at [index] ==\n",
    "    # 9 set it as 0\n",
    "    while (index >= 0 and digits[index] == 9):\n",
    "        digits[index] = 0\n",
    "        index -= 1\n",
    "          \n",
    "    # if index < 0 (if all digits were 9)\n",
    "    if (index < 0):\n",
    "        \n",
    "        # insert an one at the beginning of the vector\n",
    "        digits.insert(0, 1)\n",
    "          \n",
    "    # else increment the value at [index]\n",
    "    else:\n",
    "        digits[index]+=1\n",
    "  \n",
    "  \n",
    "digits = [1, 2, 3]\n",
    "  \n",
    "AddOne(digits)\n",
    "  \n",
    "for digit in digits:\n",
    "    print(digit, end =' ')"
   ]
  },
  {
   "cell_type": "markdown",
   "id": "e2257f67-5c0d-4be7-928f-152d50fbdec3",
   "metadata": {},
   "source": [
    "##  Q5. You are given two integer arrays nums1 and nums2, sorted in non-decreasing order, and two integers m and n, representing the number of elements in nums1 and nums2 respectively.Merge nums1 and nums2 into a single array sorted in non-decreasing order.The final sorted array should not be returned by the function, but instead be stored inside the array nums1. To accommodate this, nums1 has a length of m + n, where the first m elements denote the elements that should be merged, and the last n elements are set to 0 and should be ignored. nums2 has a length of n."
   ]
  },
  {
   "cell_type": "code",
   "execution_count": 8,
   "id": "8d451cbe-74c0-41e9-b6c1-5c953965a7aa",
   "metadata": {},
   "outputs": [],
   "source": [
    "def mergeArrays(arr1, arr2, n1, n2):\n",
    "    arr3 = [None] * (n1 + n2)\n",
    "    i = 0\n",
    "    j = 0\n",
    "    k = 0\n",
    " \n",
    "    # Traverse both array\n",
    "    while i < n1 and j < n2:\n",
    "        if arr1[i] < arr2[j]:\n",
    "            arr3[k] = arr1[i]\n",
    "            k = k + 1\n",
    "            i = i + 1\n",
    "        else:\n",
    "            arr3[k] = arr2[j]\n",
    "            k = k + 1\n",
    "            j = j + 1\n",
    "     \n",
    " \n",
    "    # Store remaining elements\n",
    "    # of first array\n",
    "    while i < n1:\n",
    "        arr3[k] = arr1[i];\n",
    "        k = k + 1\n",
    "        i = i + 1\n",
    " \n",
    "    # Store remaining elements\n",
    "    # of second array\n",
    "    while j < n2:\n",
    "        arr3[k] = arr2[j];\n",
    "        k = k + 1\n",
    "        j = j + 1\n",
    "    print(\"Array after merging\")\n",
    "    for i in range(n1 + n2):\n",
    "        print(str(arr3[i]), end = \" \")\n",
    " \n",
    "# Driver code\n",
    "arr1 = [1,2,3,0,0,0]\n",
    "n1 = 3\n",
    " \n",
    "arr2 = [2,5,6]\n",
    "n2 = 3"
   ]
  },
  {
   "cell_type": "code",
   "execution_count": 9,
   "id": "e90ab161-bf14-4c72-8451-8ed899f17403",
   "metadata": {},
   "outputs": [
    {
     "name": "stdout",
     "output_type": "stream",
     "text": [
      "Array after merging\n",
      "1 2 2 3 5 6 "
     ]
    }
   ],
   "source": [
    "mergeArrays(arr1, arr2, n1, n2)"
   ]
  },
  {
   "cell_type": "markdown",
   "id": "1d574c3b-8410-4dc0-8b24-58b58941d885",
   "metadata": {},
   "source": [
    "##  Q6. Given an integer array nums, return true if any value appears at least twice in the array, and return false if every element is distinct."
   ]
  },
  {
   "cell_type": "code",
   "execution_count": 11,
   "id": "5b0f6f26-1cb8-46a2-81c5-0d77df06483f",
   "metadata": {},
   "outputs": [
    {
     "name": "stdout",
     "output_type": "stream",
     "text": [
      "Yes\n"
     ]
    }
   ],
   "source": [
    "def checkDuplicatesWithinK(arr,  n,  k):\n",
    " \n",
    "    # traversing the input array\n",
    "    for i in range(n):\n",
    "        j = i + 1\n",
    "        range_ = k\n",
    "         \n",
    "        # searching in next k-1 elements if its duplicate\n",
    "        # is present or not\n",
    "        while (range_ > 0 and j < n):\n",
    "            if (arr[i] == arr[j]):\n",
    "                return True\n",
    "            j += 1\n",
    "            range_ -= 1\n",
    " \n",
    "    return False\n",
    " \n",
    " \n",
    "arr = [1,2,3,1]\n",
    "n = len(arr)\n",
    "if (checkDuplicatesWithinK(arr, n, 3) == True):\n",
    "    print(\"Yes\")\n",
    "else:\n",
    "    print(\"No\")"
   ]
  },
  {
   "cell_type": "markdown",
   "id": "f252efcc-490d-43b9-88a7-84823181e742",
   "metadata": {},
   "source": [
    "##  Q7. Given an integer array nums, move all 0's to the end of it while maintaining the relative order of the nonzero elements. Note that you must do this in-place without making a copy of the array."
   ]
  },
  {
   "cell_type": "code",
   "execution_count": 12,
   "id": "6695ad57-b6af-4e9d-9b3a-d4bf604af7bb",
   "metadata": {},
   "outputs": [
    {
     "name": "stdout",
     "output_type": "stream",
     "text": [
      "Array after pushing all zeros to end of array:\n",
      "[1, 3, 12, 0, 0]\n"
     ]
    }
   ],
   "source": [
    "def pushZerosToEnd(arr, n):\n",
    "    count = 0 # Count of non-zero elements\n",
    "    for i in range(n):\n",
    "        if arr[i] != 0:\n",
    "             \n",
    "            # here count is incremented\n",
    "            arr[count] = arr[i]\n",
    "            count+=1\n",
    "    while count < n:\n",
    "        arr[count] = 0\n",
    "        count += 1\n",
    "arr = [0,1,0,3,12]\n",
    "\n",
    "n = len(arr)\n",
    "pushZerosToEnd(arr, n)\n",
    "print(\"Array after pushing all zeros to end of array:\")\n",
    "print(arr)"
   ]
  },
  {
   "cell_type": "markdown",
   "id": "97a9ef81-ad5d-450a-9b5d-218726878b63",
   "metadata": {},
   "source": [
    "##  Q8. You have a set of integers s, which originally contains all the numbers from 1 to n. Unfortunately, due to some error, one of the numbers in s got duplicated to another number in the set, which results in repetition of one number and loss of another number. You are given an integer array nums representing the data status of this set after the error. Find the number that occurs twice and the number that is missing and return them in the form of an array."
   ]
  },
  {
   "cell_type": "code",
   "execution_count": 15,
   "id": "3a111401-c5a5-4e1d-ae59-bbbde743b56a",
   "metadata": {},
   "outputs": [],
   "source": [
    "class Solution(object):\n",
    "    def findErrorNums(self, nums):\n",
    "        nums.sort()\n",
    "        rep_miss = [] \n",
    "        for i  in range(len(nums)) :\n",
    "            for j in range(i+1, len(nums)) :\n",
    "                if   nums[i] == nums[j] :\n",
    "                    rep_miss.append(nums[i])\n",
    "        for i  in range(1, len(nums)+1) :\n",
    "            if i not in nums : #and abs(rep_miss[0]-i ==1) :\n",
    "                rep_miss.append(i)\n",
    "            return rep_miss\n",
    "s= Solution()"
   ]
  },
  {
   "cell_type": "code",
   "execution_count": 16,
   "id": "e549705c-6dc4-4c10-adbe-28574397fae1",
   "metadata": {},
   "outputs": [
    {
     "data": {
      "text/plain": [
       "[2]"
      ]
     },
     "execution_count": 16,
     "metadata": {},
     "output_type": "execute_result"
    }
   ],
   "source": [
    "s.findErrorNums([1,2,2,4])"
   ]
  },
  {
   "cell_type": "code",
   "execution_count": 18,
   "id": "1291b0a4-dd05-47b6-8ab0-a0edb34f2c1c",
   "metadata": {},
   "outputs": [],
   "source": [
    "class Solution:\n",
    "    def findErrorNums(self, nums):\n",
    "        ans = [0,0]\n",
    "        for num in nums:\n",
    "            nums[(num - 1) % 10000] += 10000\n",
    "        for i in range(len(nums)):\n",
    "            if nums[i] > 20000: ans[0] = i + 1\n",
    "            elif nums[i] < 10001: ans[1] = i + 1\n",
    "        return ans"
   ]
  },
  {
   "cell_type": "code",
   "execution_count": 19,
   "id": "5182d8af-c9d5-41fa-bba0-357a5c79843b",
   "metadata": {},
   "outputs": [
    {
     "data": {
      "text/plain": [
       "[2, 3]"
      ]
     },
     "execution_count": 19,
     "metadata": {},
     "output_type": "execute_result"
    }
   ],
   "source": [
    "d= Solution()\n",
    "d.findErrorNums([1,2,2,4])"
   ]
  },
  {
   "cell_type": "code",
   "execution_count": null,
   "id": "14f45353-5f0a-4bd4-9ef4-8958d68c8b26",
   "metadata": {},
   "outputs": [],
   "source": []
  }
 ],
 "metadata": {
  "kernelspec": {
   "display_name": "Python 3 (ipykernel)",
   "language": "python",
   "name": "python3"
  },
  "language_info": {
   "codemirror_mode": {
    "name": "ipython",
    "version": 3
   },
   "file_extension": ".py",
   "mimetype": "text/x-python",
   "name": "python",
   "nbconvert_exporter": "python",
   "pygments_lexer": "ipython3",
   "version": "3.10.8"
  }
 },
 "nbformat": 4,
 "nbformat_minor": 5
}
