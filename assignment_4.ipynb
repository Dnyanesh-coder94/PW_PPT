{
 "cells": [
  {
   "cell_type": "markdown",
   "id": "e349038e-65c1-4cf5-81ba-1e2ab1accd82",
   "metadata": {},
   "source": [
    "##  Question 1 Given three integer arrays arr1, arr2 and arr3 sorted in strictly increasing order, return a sorted array of only the integers that appeared in all three arrays."
   ]
  },
  {
   "cell_type": "code",
   "execution_count": 2,
   "id": "221e4b96-8e29-441e-8725-16b2c87ff515",
   "metadata": {},
   "outputs": [],
   "source": [
    "from typing import List, Tuple\n",
    "class Solution:\n",
    "    def arraysIntersection(\n",
    "        self, arr1: List[int], arr2: List[int], arr3: List[int]\n",
    "    ) -> List[int]:\n",
    "        def find(arr, val):\n",
    "            left, right = 0, len(arr) - 1\n",
    "            while left < right:\n",
    "                mid = (left + right) >> 1\n",
    "                if arr[mid] >= val:\n",
    "                    right = mid\n",
    "                else:\n",
    "                    left = mid + 1\n",
    "            return arr[left] == val\n",
    "\n",
    "        res = []\n",
    "        for num in arr1:\n",
    "            if find(arr2, num) and find(arr3, num):\n",
    "                res.append(num)\n",
    "        return res\n"
   ]
  },
  {
   "cell_type": "code",
   "execution_count": 3,
   "id": "cab5be80-1a36-4136-bb66-099f59164405",
   "metadata": {},
   "outputs": [
    {
     "data": {
      "text/plain": [
       "[1, 5]"
      ]
     },
     "execution_count": 3,
     "metadata": {},
     "output_type": "execute_result"
    }
   ],
   "source": [
    "a=Solution()\n",
    "a.arraysIntersection([1,2,3,4,5],[1,2,5,7,9],[1,3,4,5,8])"
   ]
  },
  {
   "cell_type": "markdown",
   "id": "83fab80f-a588-447b-b814-c0db7ede1012",
   "metadata": {},
   "source": [
    "##  Question 2  Given two **0-indexed** integer arrays nums1 and nums2, return *a list* answer *of size* 2 *where:*\n",
    "##  - answer[0] *is a list of all **distinct** integers in* nums1 *which are **not** present in* nums2*.*\n",
    "##  - answer[1] *is a list of all **distinct** integers in* nums2 *which are **not** present in* nums1.\n",
    "##  Note  that the integers in the lists may be returned in **any** order."
   ]
  },
  {
   "cell_type": "code",
   "execution_count": 4,
   "id": "539a0511-6202-4178-9af3-e5800add015c",
   "metadata": {},
   "outputs": [],
   "source": [
    "class Solution:\n",
    "    def findDifference(self, nums1: List[int], nums2: List[int]) -> List[List[int]]:\n",
    "        n1=set(nums1)\n",
    "        n2=set(nums2)\n",
    "        r1=list(set(x for x in nums1 if x not in n2))\n",
    "        r2=list(set(x for x in nums2 if x not in n1))\n",
    "        return [r1,r2]"
   ]
  },
  {
   "cell_type": "code",
   "execution_count": 5,
   "id": "e1890000-7fd4-4277-9d1f-5d0c2ddaf92d",
   "metadata": {},
   "outputs": [
    {
     "data": {
      "text/plain": [
       "[[1, 3], [4, 6]]"
      ]
     },
     "execution_count": 5,
     "metadata": {},
     "output_type": "execute_result"
    }
   ],
   "source": [
    "f=Solution()\n",
    "f.findDifference([1,2,3],[2,4,6])"
   ]
  },
  {
   "cell_type": "markdown",
   "id": "85fba32c-b64a-4d31-8521-073715cba692",
   "metadata": {},
   "source": [
    "##  Question 3  Given a 2D integer array matrix, return *the **transpose** of* matrix. The transpose of a matrix is the matrix flipped over its main diagonal, switching the matrix's row and column indices."
   ]
  },
  {
   "cell_type": "code",
   "execution_count": 6,
   "id": "acb0cde3-8140-4242-9ba0-1612dd4f0fde",
   "metadata": {},
   "outputs": [],
   "source": [
    "class Solution:\n",
    "    def transpose(self, matrix: List[List[int]]) -> List[List[int]]:\n",
    "        m,n=len(matrix),len(matrix[0])\n",
    "        ans = [[None] * m for _ in range(n)]\n",
    "        for i in range(m):\n",
    "            for j in range(n):\n",
    "                ans[j][i]=matrix[i][j]\n",
    "        \n",
    "        return ans"
   ]
  },
  {
   "cell_type": "code",
   "execution_count": 7,
   "id": "5452cac1-6724-48a5-a0ce-09640a6f44e2",
   "metadata": {},
   "outputs": [
    {
     "data": {
      "text/plain": [
       "[[1, 4, 7], [2, 5, 8], [3, 6, 9]]"
      ]
     },
     "execution_count": 7,
     "metadata": {},
     "output_type": "execute_result"
    }
   ],
   "source": [
    "t=Solution()\n",
    "t.transpose([[1,2,3],[4,5,6],[7,8,9]])"
   ]
  },
  {
   "cell_type": "markdown",
   "id": "6cfeedf3-3633-4b9c-bb51-7312de3c2b58",
   "metadata": {},
   "source": [
    "##  Question 4 Given an integer array nums of 2n integers, group these integers into n pairs (a1, b1), (a2, b2), ..., (an, bn) such that the sum of min(ai, bi) for all i is maximized. Return the maximized sum."
   ]
  },
  {
   "cell_type": "code",
   "execution_count": 8,
   "id": "3ca427ea-347e-413a-927e-4ae901225253",
   "metadata": {},
   "outputs": [],
   "source": [
    "class Solution:\n",
    "    def arrayPairSum(self, nums: List[int]) -> int:\n",
    "        return sum(sorted(nums)[::2])"
   ]
  },
  {
   "cell_type": "code",
   "execution_count": 9,
   "id": "65b7237a-34a4-4cdc-a429-f151e96ba703",
   "metadata": {},
   "outputs": [
    {
     "data": {
      "text/plain": [
       "4"
      ]
     },
     "execution_count": 9,
     "metadata": {},
     "output_type": "execute_result"
    }
   ],
   "source": [
    "a=Solution()\n",
    "a.arrayPairSum([1,4,3,2])"
   ]
  },
  {
   "cell_type": "markdown",
   "id": "704ce16e-5335-4fee-b67b-a2647827b4fb",
   "metadata": {},
   "source": [
    "##  Question 5 You have n coins and you want to build a staircase with these coins. The staircase consists of k rows where the ith row has exactly i coins. The last row of the staircase **may be** incomplete.Given the integer n, return the number of complete rows of the staircase you will build"
   ]
  },
  {
   "cell_type": "code",
   "execution_count": 16,
   "id": "86133f1b-0cae-401f-87cd-e7fbfd981312",
   "metadata": {},
   "outputs": [],
   "source": [
    "import math\n",
    "class Solution:\n",
    "    def arrangeCoins(self, n: int) -> int:\n",
    "        return int((-1+ math.sqrt(1+8*n))//2)"
   ]
  },
  {
   "cell_type": "code",
   "execution_count": 17,
   "id": "8777eda2-c7ca-465a-bc3a-449d0731feb0",
   "metadata": {},
   "outputs": [
    {
     "data": {
      "text/plain": [
       "2"
      ]
     },
     "execution_count": 17,
     "metadata": {},
     "output_type": "execute_result"
    }
   ],
   "source": [
    "c=Solution()\n",
    "c.arrangeCoins(5)"
   ]
  },
  {
   "cell_type": "markdown",
   "id": "49a5b8d1-b904-44c4-a295-256ce0b490dc",
   "metadata": {},
   "source": [
    "##  Question 6 Given an integer array nums sorted in non-decreasing order, return an array of the squares of each number sorted in non-decreasing order."
   ]
  },
  {
   "cell_type": "code",
   "execution_count": 18,
   "id": "1413ce7d-4318-4d6e-99aa-afe427da093a",
   "metadata": {},
   "outputs": [],
   "source": [
    "class Solution:\n",
    "    def sortedSquares(self, nums: List[int]) -> List[int]:\n",
    "        a=[i*i for i in nums]\n",
    "        return sorted(a)"
   ]
  },
  {
   "cell_type": "code",
   "execution_count": 19,
   "id": "4897f529-cb36-47f0-8f45-2de47258bf60",
   "metadata": {},
   "outputs": [
    {
     "data": {
      "text/plain": [
       "[0, 1, 9, 16, 100]"
      ]
     },
     "execution_count": 19,
     "metadata": {},
     "output_type": "execute_result"
    }
   ],
   "source": [
    "sq=Solution()\n",
    "sq.sortedSquares([-4,-1,0,3,10])"
   ]
  },
  {
   "cell_type": "markdown",
   "id": "c05caa37-6b5c-4064-8f7b-f4c846f5bdf2",
   "metadata": {},
   "source": [
    "##  Question 7 You are given an m x n matrix M initialized with all 0's and an array of operations ops, where ops[i] = [ai, bi] means M[x][y] should be incremented by one for all 0 <= x < ai and 0 <= y < bi. Count and return *the number of maximum integers in the matrix after performing all the operations*"
   ]
  },
  {
   "cell_type": "code",
   "execution_count": 20,
   "id": "c642f63c-9b21-449d-8dea-2899b23fe5ba",
   "metadata": {},
   "outputs": [],
   "source": [
    "class Solution:\n",
    "    def maxCount(self, m: int, n: int, ops: List[List[int]]) -> int:\n",
    "        length = len(ops)\n",
    "        if length == 0:\n",
    "            return m*n\n",
    "        result = [ops[0][0] , ops[0][1]]\n",
    "        for i in range(1,length):\n",
    "            result[0] = min(result[0] , ops[i][0])\n",
    "            result[1] = min(result[1] , ops[i][1])\n",
    "        return result[0]*result[1]"
   ]
  },
  {
   "cell_type": "code",
   "execution_count": 21,
   "id": "c49165eb-ed5f-497b-a2a3-e79be8e7bc92",
   "metadata": {},
   "outputs": [
    {
     "data": {
      "text/plain": [
       "4"
      ]
     },
     "execution_count": 21,
     "metadata": {},
     "output_type": "execute_result"
    }
   ],
   "source": [
    "m=Solution()\n",
    "m.maxCount(3,3,[[2,2],[3,3]])"
   ]
  },
  {
   "cell_type": "markdown",
   "id": "dfc49f18-aa01-4a05-a8cf-cae8189118b5",
   "metadata": {},
   "source": [
    "##  Question 8 Given the array nums consisting of 2n elements in the form [x1,x2,...,xn,y1,y2,...,yn]. Return the array in the form* [x1,y1,x2,y2,...,xn,yn]."
   ]
  },
  {
   "cell_type": "code",
   "execution_count": 22,
   "id": "3eaf6b42-a200-41f7-a954-87f7d542e611",
   "metadata": {},
   "outputs": [],
   "source": [
    "class Solution:\n",
    "    def shuffle(self, nums: List[int], n: int) -> List[int]:\n",
    "        return [nums[i+(j%2)*(len(nums)//2)] for i in range(len(nums)//2) for j in range(2) ]"
   ]
  },
  {
   "cell_type": "code",
   "execution_count": 23,
   "id": "72dc907d-4ad3-4998-b59e-4e7357dbf9ea",
   "metadata": {},
   "outputs": [
    {
     "data": {
      "text/plain": [
       "[2, 3, 5, 4, 1, 7]"
      ]
     },
     "execution_count": 23,
     "metadata": {},
     "output_type": "execute_result"
    }
   ],
   "source": [
    "s=Solution()\n",
    "s.shuffle([2,5,1,3,4,7],3)"
   ]
  },
  {
   "cell_type": "code",
   "execution_count": null,
   "id": "016c0ea2-28d0-4f54-ad35-5b92ac74b721",
   "metadata": {},
   "outputs": [],
   "source": []
  }
 ],
 "metadata": {
  "kernelspec": {
   "display_name": "Python 3 (ipykernel)",
   "language": "python",
   "name": "python3"
  },
  "language_info": {
   "codemirror_mode": {
    "name": "ipython",
    "version": 3
   },
   "file_extension": ".py",
   "mimetype": "text/x-python",
   "name": "python",
   "nbconvert_exporter": "python",
   "pygments_lexer": "ipython3",
   "version": "3.10.8"
  }
 },
 "nbformat": 4,
 "nbformat_minor": 5
}
