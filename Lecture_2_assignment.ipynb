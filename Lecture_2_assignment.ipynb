{
 "cells": [
  {
   "cell_type": "markdown",
   "id": "d800ad6d-dc45-4ffe-8c54-2024862fe2b1",
   "metadata": {},
   "source": [
    "##  Question 1 Given an integer array nums of 2n integers, group these integers into n pairs (a1, b1), (a2, b2),..., (an, bn) such that the sum of min(ai, bi) for all i is maximized. Return the maximized sum."
   ]
  },
  {
   "cell_type": "code",
   "execution_count": 3,
   "id": "b5cac5bb-a0d1-4e32-b50f-02eabed03617",
   "metadata": {},
   "outputs": [],
   "source": [
    "from typing import List, Tuple\n",
    "def arrayPairSum(nums: List[int]) -> int:\n",
    "    nums_sort = sorted(nums)\n",
    "    res = 0\n",
    "    i = 0\n",
    "    while i < len(nums):\n",
    "        res += nums_sort[i]\n",
    "        i += 2\n",
    "    return res"
   ]
  },
  {
   "cell_type": "code",
   "execution_count": 5,
   "id": "a8781e6a-a7c8-4949-8ca2-74e2d7bd43cb",
   "metadata": {},
   "outputs": [
    {
     "data": {
      "text/plain": [
       "4"
      ]
     },
     "execution_count": 5,
     "metadata": {},
     "output_type": "execute_result"
    }
   ],
   "source": [
    "arrayPairSum([1,4,3,2])"
   ]
  },
  {
   "cell_type": "markdown",
   "id": "9d1fc7e6-5aac-46ea-8c1f-55b77b9e175c",
   "metadata": {},
   "source": [
    "##  Question 2 Alice has n candies, where the ith candy is of type candyType[i]. Alice noticed that she started to gain weight, so she visited a doctor. The doctor advised Alice to only eat n / 2 of the candies she has (n is always even). Alice likes her candies very much, and she wants to eat the maximum number of different types of candies while still following the doctor's advice. Given the integer array candyType of length n, return the maximum number of different types of candies she can eat if she only eats n / 2 of them."
   ]
  },
  {
   "cell_type": "code",
   "execution_count": 9,
   "id": "618e7f83-7965-4633-bd6e-e33e3f83aa5d",
   "metadata": {},
   "outputs": [],
   "source": [
    "class Solution:\n",
    "    def distributeCandies(self, candyType: List[int]) -> int:\n",
    "        length = len(candyType)//2\n",
    "        dis_length = len(set(candyType))\n",
    "\n",
    "        if dis_length < length:\n",
    "            return dis_length\n",
    "        else:\n",
    "            return length\n",
    "            "
   ]
  },
  {
   "cell_type": "code",
   "execution_count": 10,
   "id": "77a66987-a984-4b12-a8eb-573cfe22d91b",
   "metadata": {},
   "outputs": [
    {
     "data": {
      "text/plain": [
       "3"
      ]
     },
     "execution_count": 10,
     "metadata": {},
     "output_type": "execute_result"
    }
   ],
   "source": [
    "p = Solution()\n",
    "p.distributeCandies([1,1,2,2,3,3])"
   ]
  },
  {
   "cell_type": "markdown",
   "id": "4d169684-c8c0-4235-8068-2e187d368c68",
   "metadata": {},
   "source": [
    "##  Question 3 We define a harmonious array as an array where the difference between its maximum value and its minimum value is exactly 1. Given an integer array nums, return the length of its longest harmonious subsequence among all its possible subsequences. A subsequence of an array is a sequence that can be derived from the array by deleting some or no elements without changing the order of the remaining elements."
   ]
  },
  {
   "cell_type": "code",
   "execution_count": 11,
   "id": "40a9db6f-3e45-4fce-88b3-f92a22d714be",
   "metadata": {},
   "outputs": [],
   "source": [
    "class Solution:\n",
    "    def findLHS(self, nums: List[int]) -> int:\n",
    "        d, a = {}, 0\n",
    "        for i in nums:\n",
    "            if i not in d: d[i] = 1\n",
    "            else: d[i] += 1\n",
    "        for i in d:\n",
    "            if i + 1 in d.keys():\n",
    "                a = max(a, d[i] + d[i+1])\n",
    "        return a"
   ]
  },
  {
   "cell_type": "code",
   "execution_count": 12,
   "id": "95fab0fd-b8ab-4f2d-a3f8-61163ccac177",
   "metadata": {},
   "outputs": [
    {
     "data": {
      "text/plain": [
       "5"
      ]
     },
     "execution_count": 12,
     "metadata": {},
     "output_type": "execute_result"
    }
   ],
   "source": [
    "LHS = Solution()\n",
    "LHS.findLHS([1,3,2,2,5,2,3,7])"
   ]
  },
  {
   "cell_type": "markdown",
   "id": "1eeb02ec-ed56-46c4-8ce1-0da10529ee98",
   "metadata": {},
   "source": [
    "##  Question 4 You have a long flowerbed in which some of the plots are planted, and some are not. However, flowers cannot be planted in adjacent plots. Given an integer array flowerbed containing 0's and 1's, where 0 means empty and 1 means not empty, and an integer n, return true if n new flowers can be planted in the flowerbed without violating the no-adjacent-flowers rule and false otherwise."
   ]
  },
  {
   "cell_type": "code",
   "execution_count": 13,
   "id": "0db9b6a3-51ca-4387-bf4d-06f8fd0d9514",
   "metadata": {},
   "outputs": [],
   "source": [
    "class Solution:\n",
    "    def canPlaceFlowers(self, flowerbed: List[int], n: int) -> bool:\n",
    "        if n == 0:\n",
    "            return True\n",
    "        for i in range(len(flowerbed)):\n",
    "            if flowerbed[i] == 0 and (i == 0 or flowerbed[i-1] == 0) and (i == len(flowerbed)-1 or flowerbed[i+1] == 0):\n",
    "                flowerbed[i] = 1\n",
    "                n -= 1\n",
    "                if n == 0:\n",
    "                    return True\n",
    "        return False"
   ]
  },
  {
   "cell_type": "code",
   "execution_count": 14,
   "id": "0868ea8e-dcca-4eae-af2c-621072be19ba",
   "metadata": {},
   "outputs": [
    {
     "data": {
      "text/plain": [
       "True"
      ]
     },
     "execution_count": 14,
     "metadata": {},
     "output_type": "execute_result"
    }
   ],
   "source": [
    "flowers = Solution()\n",
    "flowers.canPlaceFlowers([1,0,0,0,1],1)"
   ]
  },
  {
   "cell_type": "markdown",
   "id": "222e9cb8-ca91-4391-b31a-21b2052b723d",
   "metadata": {},
   "source": [
    "##  Question 5 Given an integer array nums, find three numbers whose product is maximum and return the maximum product."
   ]
  },
  {
   "cell_type": "code",
   "execution_count": 17,
   "id": "4ae2e15d-43d7-4530-b720-4aaa86d14b1a",
   "metadata": {},
   "outputs": [],
   "source": [
    "import heapq\n",
    "class Solution:\n",
    "     def maximumProduct(self, nums):\n",
    "            a, b = heapq.nlargest(3, nums), heapq.nsmallest(2, nums)\n",
    "            return max(a[0] * a[1] * a[2], b[0] * b[1] * a[0])"
   ]
  },
  {
   "cell_type": "code",
   "execution_count": 18,
   "id": "ce6d1b17-148c-46d9-9723-ad66c6134c5a",
   "metadata": {},
   "outputs": [
    {
     "data": {
      "text/plain": [
       "6"
      ]
     },
     "execution_count": 18,
     "metadata": {},
     "output_type": "execute_result"
    }
   ],
   "source": [
    "maxprod = Solution()\n",
    "maxprod.maximumProduct([1,2,3])"
   ]
  },
  {
   "cell_type": "markdown",
   "id": "2e3b246b-ffd0-46d1-88cf-9448f603650b",
   "metadata": {},
   "source": [
    "##  Question 6 Given an array of integers nums which is sorted in ascending order, and an integer target, write a function to search target in nums. If target exists, then return its index. Otherwise, return -1. You must write an algorithm with O(log n) runtime complexity."
   ]
  },
  {
   "cell_type": "code",
   "execution_count": 19,
   "id": "da5d2ca7-1d4a-4b08-80f8-83094b1b84a7",
   "metadata": {},
   "outputs": [],
   "source": [
    "class Solution:\n",
    "    def search(self, nums: List[int], target: int) -> int:\n",
    "        leng = len(nums)\n",
    "        hi = leng\n",
    "        lo = 0\n",
    "        mid = (lo+hi)//2\n",
    "        while lo < hi:\n",
    "            curr = nums[mid]\n",
    "            if curr == target:\n",
    "                return mid\n",
    "            elif curr < target:\n",
    "                lo = mid\n",
    "                mid = (lo+hi)//2\n",
    "                if lo == mid:\n",
    "                    lo+=1\n",
    "            else:\n",
    "                hi = mid\n",
    "                mid = (lo+hi)//2\n",
    "                if hi == mid:\n",
    "                    hi-=1\n",
    "        return -1"
   ]
  },
  {
   "cell_type": "code",
   "execution_count": 20,
   "id": "809e47ac-f51e-411e-8381-fb17de2b3146",
   "metadata": {},
   "outputs": [
    {
     "data": {
      "text/plain": [
       "4"
      ]
     },
     "execution_count": 20,
     "metadata": {},
     "output_type": "execute_result"
    }
   ],
   "source": [
    "search = Solution()\n",
    "search.search([-1,0,3,5,9,12],9)"
   ]
  },
  {
   "cell_type": "markdown",
   "id": "bf2d41d3-d33f-404f-975e-e0136d1a7587",
   "metadata": {},
   "source": [
    "##  Question 7 An array is monotonic if it is either monotone increasing or monotone decreasing. An array nums is monotone increasing if for all i <= j, nums[i] <= nums[j]. An array nums is monotone decreasing if for all i <= j, nums[i] >= nums[j]. Given an integer array nums, return true if the given array is monotonic, or false otherwise."
   ]
  },
  {
   "cell_type": "code",
   "execution_count": 26,
   "id": "3a7db937-1f4a-49ac-b325-24fe5c8f59e9",
   "metadata": {},
   "outputs": [],
   "source": [
    "def isMonotonic(self, nums: List[int]) -> bool:\n",
    "\treturn nums == sorted(nums) or nums == sorted(nums, reverse=True)"
   ]
  },
  {
   "cell_type": "code",
   "execution_count": 27,
   "id": "5a01019b-6f4e-48ce-b56a-c0882f8d59ba",
   "metadata": {},
   "outputs": [
    {
     "ename": "TypeError",
     "evalue": "isMonotonic() missing 1 required positional argument: 'nums'",
     "output_type": "error",
     "traceback": [
      "\u001b[0;31m---------------------------------------------------------------------------\u001b[0m",
      "\u001b[0;31mTypeError\u001b[0m                                 Traceback (most recent call last)",
      "Cell \u001b[0;32mIn[27], line 1\u001b[0m\n\u001b[0;32m----> 1\u001b[0m \u001b[43misMonotonic\u001b[49m\u001b[43m(\u001b[49m\u001b[43m[\u001b[49m\u001b[38;5;241;43m1\u001b[39;49m\u001b[43m,\u001b[49m\u001b[38;5;241;43m2\u001b[39;49m\u001b[43m,\u001b[49m\u001b[38;5;241;43m2\u001b[39;49m\u001b[43m,\u001b[49m\u001b[38;5;241;43m3\u001b[39;49m\u001b[43m]\u001b[49m\u001b[43m)\u001b[49m\n",
      "\u001b[0;31mTypeError\u001b[0m: isMonotonic() missing 1 required positional argument: 'nums'"
     ]
    }
   ],
   "source": [
    "isMonotonic([1,2,2,3])"
   ]
  },
  {
   "cell_type": "code",
   "execution_count": 28,
   "id": "0488525e-27f6-499e-8002-8c747b6b4afc",
   "metadata": {},
   "outputs": [],
   "source": []
  },
  {
   "cell_type": "code",
   "execution_count": 28,
   "id": "7852a04b-0cb1-44bb-8be1-e79858c39124",
   "metadata": {},
   "outputs": [],
   "source": [
    "sr = Solution()\n",
    "sr.smallestRangeI()"
   ]
  },
  {
   "cell_type": "markdown",
   "id": "e02d7bbc-ff2f-4052-8cc6-04afe32ed8a8",
   "metadata": {},
   "source": [
    "##  Question 8 You are given an integer array nums and an integer k. In one operation, you can choose any index i where 0 <= i < nums.length and change nums[i] to nums[i] + x where x is an integer from the range [-k, k]. You can apply this operation at most once for each index i. The score of nums is the difference between the maximum and minimum elements in nums. Return the minimum score of nums after applying the mentioned operation at most once for each index in it."
   ]
  },
  {
   "cell_type": "code",
   "execution_count": 22,
   "id": "4c4689d1-19cf-4de2-920c-6d0a845863aa",
   "metadata": {},
   "outputs": [],
   "source": [
    "class Solution:\n",
    "    def smallestRangeI(self, nums: List[int], k: int) -> int:\n",
    "        x=max(nums)\n",
    "        y=min(nums)\n",
    "        return max(0,(x-k)-(y+k))"
   ]
  },
  {
   "cell_type": "code",
   "execution_count": 25,
   "id": "95ea6fb4-30f7-4425-894c-8b0da415787d",
   "metadata": {},
   "outputs": [
    {
     "data": {
      "text/plain": [
       "0"
      ]
     },
     "execution_count": 25,
     "metadata": {},
     "output_type": "execute_result"
    }
   ],
   "source": [
    "r=Solution()\n",
    "r.smallestRangeI([1],0)"
   ]
  },
  {
   "cell_type": "code",
   "execution_count": null,
   "id": "7c5a3c20-eeee-4f3c-9e71-832906052ca6",
   "metadata": {},
   "outputs": [],
   "source": []
  }
 ],
 "metadata": {
  "kernelspec": {
   "display_name": "Python 3 (ipykernel)",
   "language": "python",
   "name": "python3"
  },
  "language_info": {
   "codemirror_mode": {
    "name": "ipython",
    "version": 3
   },
   "file_extension": ".py",
   "mimetype": "text/x-python",
   "name": "python",
   "nbconvert_exporter": "python",
   "pygments_lexer": "ipython3",
   "version": "3.10.8"
  }
 },
 "nbformat": 4,
 "nbformat_minor": 5
}
