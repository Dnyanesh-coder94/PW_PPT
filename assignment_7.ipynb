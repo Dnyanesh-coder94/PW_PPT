{
 "cells": [
  {
   "cell_type": "markdown",
   "id": "360793bf-2006-4c36-9de6-ac35b3481d27",
   "metadata": {},
   "source": [
    "##  Question 1 Given two strings s and t, *determine if they are isomorphic*. Two strings s and t are isomorphic if the characters in s can be replaced to get t. All occurrences of a character must be replaced with another character while preserving the order of characters. No two characters may map to the same character, but a character may map to itself."
   ]
  },
  {
   "cell_type": "code",
   "execution_count": 1,
   "id": "f3190aab-47ff-4e29-be51-0fd9a58bf293",
   "metadata": {},
   "outputs": [],
   "source": [
    "from typing import List, Tuple\n",
    "class Solution(object):\n",
    "    def isIsomorphic(self, s, t):\n",
    "        map1 = []\n",
    "        map2 = []\n",
    "        for idx in s:\n",
    "            map1.append(s.index(idx))\n",
    "        for idx in t:\n",
    "            map2.append(t.index(idx))\n",
    "        if map1 == map2:\n",
    "            return True\n",
    "        return False"
   ]
  },
  {
   "cell_type": "code",
   "execution_count": 2,
   "id": "0a6d00ac-72a9-49f1-828d-2a2e5ae7593d",
   "metadata": {},
   "outputs": [
    {
     "data": {
      "text/plain": [
       "True"
      ]
     },
     "execution_count": 2,
     "metadata": {},
     "output_type": "execute_result"
    }
   ],
   "source": [
    "m=Solution()\n",
    "m.isIsomorphic(\"egg\",\"add\")"
   ]
  },
  {
   "cell_type": "markdown",
   "id": "28ebab7d-115a-40eb-97a6-8ca53a795ad0",
   "metadata": {},
   "source": [
    "##  Question 2 Given a string num which represents an integer, return true *if* num *is a **strobogrammatic number***. A **strobogrammatic number** is a number that looks the same when rotated 180 degrees (looked at upside down)."
   ]
  },
  {
   "cell_type": "code",
   "execution_count": 3,
   "id": "4c6f1100-fe12-4930-91a2-d4136e0a417e",
   "metadata": {},
   "outputs": [],
   "source": [
    "class Solution(object):\n",
    "    def isStrobogrammatic(self, num):\n",
    "      \n",
    "        maps = {(\"0\", \"0\"), (\"1\", \"1\"), (\"6\", \"9\"), (\"8\", \"8\"), (\"9\", \"6\")}\n",
    "        i,j = 0, len(num) - 1\n",
    "        while i <= j:\n",
    "            if (num[i], num[j]) not in maps:\n",
    "                return False\n",
    "            i += 1\n",
    "            j -= 1\n",
    "        return True"
   ]
  },
  {
   "cell_type": "code",
   "execution_count": 4,
   "id": "0c566ce9-4f91-4dc4-9090-f7c1cdcb50f2",
   "metadata": {},
   "outputs": [
    {
     "data": {
      "text/plain": [
       "True"
      ]
     },
     "execution_count": 4,
     "metadata": {},
     "output_type": "execute_result"
    }
   ],
   "source": [
    "s=Solution()\n",
    "s.isStrobogrammatic(\"69\")"
   ]
  },
  {
   "cell_type": "markdown",
   "id": "704a9354-b05f-4213-8fc3-f5c8e682a668",
   "metadata": {},
   "source": [
    "##  Question 3 Given two non-negative integers, num1 and num2 represented as string, return *the sum of* num1 *and* num2 *as a string*. You must solve the problem without using any built-in library for handling large integers (such as BigInteger). You must also not convert the inputs to integers directly."
   ]
  },
  {
   "cell_type": "code",
   "execution_count": 8,
   "id": "c053e3bd-e783-4356-b2d2-30f036796c38",
   "metadata": {},
   "outputs": [],
   "source": [
    "import sys\n",
    "class Solution:\n",
    "    def addStrings(self, num1: str, num2: str) -> str:\n",
    "        sys.set_int_max_str_digits(10000)\n",
    "        return str(int(num1)+int(num2))"
   ]
  },
  {
   "cell_type": "code",
   "execution_count": 9,
   "id": "f73072b9-68f5-4090-bceb-5a5c56abb557",
   "metadata": {},
   "outputs": [
    {
     "data": {
      "text/plain": [
       "'134'"
      ]
     },
     "execution_count": 9,
     "metadata": {},
     "output_type": "execute_result"
    }
   ],
   "source": [
    "ad=Solution()\n",
    "ad.addStrings(\"11\",\"123\")"
   ]
  },
  {
   "cell_type": "markdown",
   "id": "56b42723-7582-4f16-876d-55b7901d2013",
   "metadata": {},
   "source": [
    "##  Question 4 Given a string s, reverse the order of characters in each word within a sentence while still preserving whitespace and initial word order."
   ]
  },
  {
   "cell_type": "code",
   "execution_count": 10,
   "id": "009b398f-df34-4c09-a921-92609b75b09d",
   "metadata": {},
   "outputs": [],
   "source": [
    "class Solution:\n",
    "    def reverseWords(self, s: str) -> str:\n",
    "        return \" \".join([x[::-1] for x in s.split()])"
   ]
  },
  {
   "cell_type": "code",
   "execution_count": 11,
   "id": "d3b328a4-5a8b-4879-bd25-9360218f4856",
   "metadata": {},
   "outputs": [
    {
     "data": {
      "text/plain": [
       "\"s'teL ekat edoCteeL tsetnoc\""
      ]
     },
     "execution_count": 11,
     "metadata": {},
     "output_type": "execute_result"
    }
   ],
   "source": [
    "rw=Solution()\n",
    "rw.reverseWords(\"Let's take LeetCode contest\")"
   ]
  },
  {
   "cell_type": "markdown",
   "id": "63962ffa-e186-453b-8b28-0d4b822fc7cd",
   "metadata": {},
   "source": [
    "##  Question 5 Given a string s and an integer k, reverse the first k characters for every 2k characters counting from the start of the string. If there are fewer than k characters left, reverse all of them. If there are less than 2k but greater than or equal to k characters, then reverse the first k characters and leave the other as original."
   ]
  },
  {
   "cell_type": "code",
   "execution_count": 12,
   "id": "d70e579d-b4b8-487a-93a8-987ca7d257c9",
   "metadata": {},
   "outputs": [],
   "source": [
    "class Solution:\n",
    "    def reverseStr(self, s: str, k: int) -> str:\n",
    "        tab=[]\n",
    "        for i in range(len(s)):\n",
    "            if (i//k)%2==0:\n",
    "               tab.insert(i-i%k,s[i])\n",
    "            else:\n",
    "                tab.append(s[i])\n",
    "        res=\"\"\n",
    "        for t in tab:\n",
    "            res+=t\n",
    "        return res"
   ]
  },
  {
   "cell_type": "code",
   "execution_count": 13,
   "id": "6edfa18a-4ebb-4c02-a80a-a684fa8cd149",
   "metadata": {},
   "outputs": [
    {
     "data": {
      "text/plain": [
       "'bacdfeg'"
      ]
     },
     "execution_count": 13,
     "metadata": {},
     "output_type": "execute_result"
    }
   ],
   "source": [
    "r=Solution()\n",
    "r.reverseStr(\"abcdefg\",2)"
   ]
  },
  {
   "cell_type": "markdown",
   "id": "2f18f8be-dc80-4331-8a0a-1a559a4ad0da",
   "metadata": {},
   "source": [
    "##  Question 6 Given two strings s and goal, return true *if and only if* s *can become* goal *after some number of **shifts** on* s. A **shift** on s consists of moving the leftmost character of s to the rightmost position. For example, if s = \"abcde\", then it will be \"bcdea\" after one shift."
   ]
  },
  {
   "cell_type": "code",
   "execution_count": 14,
   "id": "49f5891e-a4f5-4b5d-9997-8d66bb89344d",
   "metadata": {},
   "outputs": [],
   "source": [
    "class Solution:\n",
    "    def rotateString(self, s: str, goal: str) -> bool:\n",
    "        if s == goal:\n",
    "            return True\n",
    "        s, goal = [*s], [*goal] \n",
    "        for x in range(len(s)):\n",
    "            a = s[0]\n",
    "            s.pop(0); s.append(a)\n",
    "            if s == goal:\n",
    "                return True\n",
    "        return False"
   ]
  },
  {
   "cell_type": "code",
   "execution_count": 16,
   "id": "32b7df4e-9e01-4b54-99bf-01846c492b6e",
   "metadata": {},
   "outputs": [
    {
     "data": {
      "text/plain": [
       "True"
      ]
     },
     "execution_count": 16,
     "metadata": {},
     "output_type": "execute_result"
    }
   ],
   "source": [
    "rsg=Solution()\n",
    "rsg.rotateString(\"abcde\",\"cdeab\")"
   ]
  },
  {
   "cell_type": "markdown",
   "id": "3f9400b4-116f-4410-940d-5e400de6cdf1",
   "metadata": {},
   "source": [
    "##  Question 7 Given two strings s and t, return true *if they are equal when both are typed into empty text editors*. '#' means a backspace character. Note that after backspacing an empty text, the text will continue empty."
   ]
  },
  {
   "cell_type": "code",
   "execution_count": 17,
   "id": "6761c1fe-ac02-4169-bc8d-30c4822b1c56",
   "metadata": {},
   "outputs": [],
   "source": [
    "class Solution:\n",
    "    def backspaceCompare(self, s: str, t: str) -> bool:\n",
    "        s_backspaced = []\n",
    "        t_backspaced = []\n",
    "        \n",
    "        for i in range(len(s)):\n",
    "            if s[i] == '#':\n",
    "                if s_backspaced:\n",
    "                    s_backspaced.pop()\n",
    "            else:\n",
    "                s_backspaced.append(s[i])\n",
    "            \n",
    "        for i in range(len(t)):\n",
    "            if t[i] == '#':\n",
    "                if t_backspaced:\n",
    "                    t_backspaced.pop()\n",
    "            else:\n",
    "                t_backspaced.append(t[i])\n",
    "        \n",
    "        return s_backspaced == t_backspaced"
   ]
  },
  {
   "cell_type": "code",
   "execution_count": 18,
   "id": "a4e67ac0-17b1-445f-9989-69a9e16666b4",
   "metadata": {},
   "outputs": [
    {
     "data": {
      "text/plain": [
       "True"
      ]
     },
     "execution_count": 18,
     "metadata": {},
     "output_type": "execute_result"
    }
   ],
   "source": [
    "bs=Solution()\n",
    "bs.backspaceCompare(\"ab#c\",\"ad#c\")"
   ]
  },
  {
   "cell_type": "markdown",
   "id": "8233d10b-f6fd-4af8-96a7-3ce1c797aa26",
   "metadata": {},
   "source": [
    "##  Question 8 You are given an array coordinates, coordinates[i] = [x, y], where [x, y] represents the coordinate of a point. Check if these points make a straight line in the XY plane."
   ]
  },
  {
   "cell_type": "code",
   "execution_count": null,
   "id": "c0a8df7a-9d13-4026-a66c-1f3a9f364138",
   "metadata": {},
   "outputs": [],
   "source": [
    "def checkStraightLine(self, coordinates: List[List[int]]) -> bool:\n",
    "        if(coordinates[1][0]-coordinates[0][0]==0):\n",
    "            s=1e9\n",
    "        else:\n",
    "            s=(coordinates[1][1]-coordinates[0][1])//(coordinates[1][0]-coordinates[0][0])\n",
    "        for i in range(1,len(coordinates)):\n",
    "            slope=1e9\n",
    "            if(coordinates[i][0]-coordinates[i-1][0]!=0):\n",
    "                slope=(coordinates[i][1]-coordinates[i-1][1])//(coordinates[i][0]-coordinates[i-1][0])\n",
    "            if(slope!=s):\n",
    "                return False\n",
    "        return True "
   ]
  },
  {
   "cell_type": "code",
   "execution_count": null,
   "id": "b4d673fa-52fd-49e9-aad6-545b786214f1",
   "metadata": {},
   "outputs": [],
   "source": [
    "([[1,2],[2,3],[3,4],[4,5],[5,6],[6,7]])"
   ]
  }
 ],
 "metadata": {
  "kernelspec": {
   "display_name": "Python 3 (ipykernel)",
   "language": "python",
   "name": "python3"
  },
  "language_info": {
   "codemirror_mode": {
    "name": "ipython",
    "version": 3
   },
   "file_extension": ".py",
   "mimetype": "text/x-python",
   "name": "python",
   "nbconvert_exporter": "python",
   "pygments_lexer": "ipython3",
   "version": "3.10.8"
  }
 },
 "nbformat": 4,
 "nbformat_minor": 5
}
