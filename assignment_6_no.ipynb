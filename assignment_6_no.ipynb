{
 "cells": [
  {
   "cell_type": "markdown",
   "id": "0865344c-1873-42df-a741-3921aecbf804",
   "metadata": {},
   "source": [
    "##  Question 1 A permutation perm of n + 1 integers of all the integers in the range [0, n] can be represented as a string s of length n where: - s[i] == 'I' if perm[i] < perm[i + 1], and - s[i] == 'D' if perm[i] > perm[i + 1]. Given a string s, reconstruct the permutation perm and return it. If there are multiple valid permutations perm, return **any of them**."
   ]
  },
  {
   "cell_type": "code",
   "execution_count": 1,
   "id": "2fadea58-77f1-4c7b-a64f-265a3a892185",
   "metadata": {},
   "outputs": [],
   "source": [
    "from typing import List, Tuple\n",
    "class Solution:\n",
    "    def diStringMatch(self, s: str) -> List[int]:\n",
    "        ans = []\n",
    "        low = 0\n",
    "        high = len(s)\n",
    "        for c in s:\n",
    "            if c == 'I':\n",
    "                ans.append(low)\n",
    "                low+=1\n",
    "            else:\n",
    "                ans.append(high)\n",
    "                high-=1\n",
    "        return ans + [high]"
   ]
  },
  {
   "cell_type": "code",
   "execution_count": 2,
   "id": "cbe2f377-9c38-4206-8d83-32858cdca4a8",
   "metadata": {},
   "outputs": [
    {
     "data": {
      "text/plain": [
       "[0, 4, 1, 3, 2]"
      ]
     },
     "execution_count": 2,
     "metadata": {},
     "output_type": "execute_result"
    }
   ],
   "source": [
    "d=Solution()\n",
    "d.diStringMatch(\"IDID\")"
   ]
  },
  {
   "cell_type": "markdown",
   "id": "b3f93122-147f-4014-ab72-5d2f6db99064",
   "metadata": {},
   "source": [
    "##  Question 2 You are given an m x n integer matrix matrix with the following two properties: - Each row is sorted in non-decreasing order. - The first integer of each row is greater than the last integer of the previous row.  Given an integer target, return true *if* target *is in* matrix *or* false *otherwise*. You must write a solution in O(log(m * n)) time complexity."
   ]
  },
  {
   "cell_type": "code",
   "execution_count": 4,
   "id": "c7fdcf0a-1a1e-46fe-9771-818b2261135d",
   "metadata": {},
   "outputs": [],
   "source": [
    "class Solution:\n",
    "    def searchMatrix(self, matrix: List[List[int]], target: int) -> bool:\n",
    "        rows, cols = len(matrix), len(matrix[0])\n",
    "        row = 0\n",
    "        for i in range(rows):\n",
    "            if matrix[i][0] > target:\n",
    "                row = i - 1\n",
    "                break\n",
    "        else:\n",
    "            row = rows - 1\n",
    "            \n",
    "        for j in range(cols):\n",
    "            if matrix[row][j] == target:\n",
    "                return True\n",
    "        return False"
   ]
  },
  {
   "cell_type": "code",
   "execution_count": 5,
   "id": "a6e542ce-da5a-4e69-a377-575314373826",
   "metadata": {},
   "outputs": [
    {
     "data": {
      "text/plain": [
       "True"
      ]
     },
     "execution_count": 5,
     "metadata": {},
     "output_type": "execute_result"
    }
   ],
   "source": [
    "s=Solution()\n",
    "s.searchMatrix([[1,3,5,7],[10,11,16,20],[23,30,34,60]],3)"
   ]
  },
  {
   "cell_type": "markdown",
   "id": "730c7fbf-bb19-4852-bd08-2447c65ef7d4",
   "metadata": {},
   "source": [
    "##  Question 3 Given an array of integers arr, return *true if and only if it is a valid mountain array*. Recall that arr is a mountain array if and only if:\n",
    "## - arr.length >= 3\n",
    "## - There exists some i with 0 < i < arr.length - 1 such that:\n",
    " ##     - arr[0] < arr[1] < ... < arr[i - 1] < arr[i]\n",
    " ##     - arr[i] > arr[i + 1] > ... > arr[arr.length - 1]"
   ]
  },
  {
   "cell_type": "code",
   "execution_count": 6,
   "id": "61c2443d-a3d4-4b99-958c-db0092915a72",
   "metadata": {},
   "outputs": [],
   "source": [
    "class Solution:\n",
    "    def validMountainArray(self, arr: List[int]) -> bool:\n",
    "        if len(arr) == 1:\n",
    "            return False\n",
    "        increasing, previous = None, arr[0]\n",
    "\n",
    "        for e in arr[1:]:\n",
    "            if previous == e:\n",
    "                return False\n",
    "            if increasing is None:\n",
    "                if e <= previous:\n",
    "                    return False\n",
    "                increasing = True\n",
    "            elif increasing and previous > e:\n",
    "                increasing = False\n",
    "            elif not increasing and previous < e:\n",
    "                return False\n",
    "            previous = e\n",
    "\n",
    "        return not increasing"
   ]
  },
  {
   "cell_type": "code",
   "execution_count": 7,
   "id": "aa4cda1f-a912-4d03-9ab2-1794b169594e",
   "metadata": {},
   "outputs": [
    {
     "data": {
      "text/plain": [
       "False"
      ]
     },
     "execution_count": 7,
     "metadata": {},
     "output_type": "execute_result"
    }
   ],
   "source": [
    "v=Solution()\n",
    "v.validMountainArray([2,1])"
   ]
  },
  {
   "cell_type": "markdown",
   "id": "26cdeff9-aab1-4cee-acda-5309682e24bf",
   "metadata": {},
   "source": [
    "##  Question 4 Given a binary array nums, return *the maximum length of a contiguous subarray with an equal number of* 0 *and* 1."
   ]
  },
  {
   "cell_type": "code",
   "execution_count": 8,
   "id": "e0311d60-db7e-4391-8d09-77cd9d93a64d",
   "metadata": {},
   "outputs": [],
   "source": [
    "class Solution:\n",
    "    def findMaxLength(self, nums: List[int]) -> int:\n",
    "        count = {0: -1}  # Initial count of 0's and 1's\n",
    "        max_len = count_diff = 0\n",
    "        \n",
    "        for i, num in enumerate(nums):\n",
    "            count_diff += 1 if num == 1 else -1  # Increment count of 1's or 0's\n",
    "            if count_diff in count:\n",
    "                max_len = max(max_len, i - count[count_diff])\n",
    "            else:\n",
    "                count[count_diff] = i\n",
    "        \n",
    "        return max_len"
   ]
  },
  {
   "cell_type": "code",
   "execution_count": 9,
   "id": "b8ba20c0-d6e0-4af1-9f07-ff2450595e56",
   "metadata": {},
   "outputs": [
    {
     "data": {
      "text/plain": [
       "2"
      ]
     },
     "execution_count": 9,
     "metadata": {},
     "output_type": "execute_result"
    }
   ],
   "source": [
    "fm=Solution()\n",
    "fm.findMaxLength([0,1])"
   ]
  },
  {
   "cell_type": "markdown",
   "id": "8222dba1-cc3b-42be-9ee1-2389214c78f0",
   "metadata": {},
   "source": [
    "##  Question 5 The **product sum** of two equal-length arrays a and b is equal to the sum of a[i] * b[i] for all 0 <= i < a.length (**0-indexed**). - For example, if a = [1,2,3,4] and b = [5,2,3,1], the **product sum** would be 1*5 + 2*2 + 3*3 + 4*1 = 22. Given two arrays nums1 and nums2 of length n, return *the **minimum product sum** if you are allowed to **rearrange** the **order** of the elements in* nums1."
   ]
  },
  {
   "cell_type": "code",
   "execution_count": 10,
   "id": "3a1d9ce3-07e7-4f44-b789-8bc86be494d4",
   "metadata": {},
   "outputs": [],
   "source": [
    "class Solution:\n",
    "    def minProductSum(self, nums1: List[int], nums2: List[int]) -> int:\n",
    "        nums1.sort()\n",
    "        nums2.sort()\n",
    "        n, res = len(nums1), 0\n",
    "        for i in range(n):\n",
    "            res += nums1[i] * nums2[n - i - 1]\n",
    "        return res"
   ]
  },
  {
   "cell_type": "code",
   "execution_count": 11,
   "id": "69f95ef5-6d38-49f2-88ac-08dd6dd10a6a",
   "metadata": {},
   "outputs": [
    {
     "data": {
      "text/plain": [
       "40"
      ]
     },
     "execution_count": 11,
     "metadata": {},
     "output_type": "execute_result"
    }
   ],
   "source": [
    "mp=Solution()\n",
    "mp.minProductSum([5,3,4,2],[4,2,2,5])"
   ]
  },
  {
   "cell_type": "markdown",
   "id": "26855a2b-5623-4fd6-996b-4fd219ed0d88",
   "metadata": {},
   "source": [
    "##  Question 6 An integer array original is transformed into a **doubled** array changed by appending **twice the value** of every element in original, and then randomly **shuffling** the resulting array. Given an array changed, return original *if* changed *is a **doubled** array. If* changed *is not a **doubled** array, return an empty array. The elements in* original *may be returned in **any** order*."
   ]
  },
  {
   "cell_type": "code",
   "execution_count": 14,
   "id": "a3f1aa70-ea36-403e-a81b-5992765d2d2e",
   "metadata": {},
   "outputs": [],
   "source": [
    "from collections import Counter\n",
    "class Solution:\n",
    "    def findOriginalArray(self, changed):\n",
    "        cnt, ans = Counter(changed), []\n",
    "        if len(changed) % 2: return []\n",
    "        for x in sorted(cnt.keys()):\n",
    "            if cnt[x] > cnt[x * 2]: return []\n",
    "            if x == 0:\n",
    "                if cnt[x] % 2:\n",
    "                    return []\n",
    "                else:  \n",
    "                    ans += [0] * (cnt[x] // 2)\n",
    "            else:\n",
    "                ans += [x] * cnt[x]\n",
    "            cnt[2 * x] -= cnt[x]\n",
    "        return ans"
   ]
  },
  {
   "cell_type": "code",
   "execution_count": 15,
   "id": "9c565453-f633-43c4-9e0c-8d93856148a4",
   "metadata": {},
   "outputs": [
    {
     "data": {
      "text/plain": [
       "[1, 3, 4]"
      ]
     },
     "execution_count": 15,
     "metadata": {},
     "output_type": "execute_result"
    }
   ],
   "source": [
    "fo=Solution()\n",
    "fo.findOriginalArray([1,3,4,2,6,8])"
   ]
  },
  {
   "cell_type": "markdown",
   "id": "c206ba54-b0ac-447b-967e-fb96d544f026",
   "metadata": {},
   "source": [
    "##  Question 7 Given a positive integer n, generate an n x n matrix filled with elements from 1 to n2 in spiral order."
   ]
  },
  {
   "cell_type": "code",
   "execution_count": null,
   "id": "654c41a1-036a-4544-8181-50e1326649eb",
   "metadata": {},
   "outputs": [],
   "source": []
  },
  {
   "cell_type": "code",
   "execution_count": null,
   "id": "d5985e34-822d-4178-a6f9-16ee318b80d6",
   "metadata": {},
   "outputs": [],
   "source": []
  },
  {
   "cell_type": "markdown",
   "id": "2c230637-b98e-4484-a489-9c44e8f7ce00",
   "metadata": {},
   "source": [
    "##  Question 8 Given two [sparse matrices](https://en.wikipedia.org/wiki/Sparse_matrix) mat1 of size m x k and mat2 of size k x n, return the result of mat1 x mat2. You may assume that multiplication is always possible"
   ]
  },
  {
   "cell_type": "code",
   "execution_count": 18,
   "id": "db5a87dd-ed40-4a93-b9e6-58a1d486ddca",
   "metadata": {},
   "outputs": [],
   "source": [
    "from collections import defaultdict\n",
    "class Solution:\n",
    "    def multiply(self, mat1: List[List[int]], mat2: List[List[int]]) -> List[List[int]]:\n",
    "        r1, c1, c2 = len(mat1), len(mat1[0]), len(mat2[0])\n",
    "        res = [[0] * c2 for _ in range(r1)]\n",
    "        mp = defaultdict(list)\n",
    "        for i in range(r1):\n",
    "            for j in range(c1):\n",
    "                if mat1[i][j] != 0:\n",
    "                    mp[i].append(j)\n",
    "        for i in range(r1):\n",
    "            for j in range(c2):\n",
    "                for k in mp[i]:\n",
    "                    res[i][j] += mat1[i][k] * mat2[k][j]\n",
    "        return res"
   ]
  },
  {
   "cell_type": "code",
   "execution_count": 19,
   "id": "cf100ff5-7a7c-4477-ad57-93074a64d4f7",
   "metadata": {},
   "outputs": [
    {
     "data": {
      "text/plain": [
       "[[7, 0, 0], [-7, 0, 3]]"
      ]
     },
     "execution_count": 19,
     "metadata": {},
     "output_type": "execute_result"
    }
   ],
   "source": [
    "mu=Solution()\n",
    "mu.multiply( [[1,0,0],[-1,0,3]],[[7,0,0],[0,0,0],[0,0,1]])"
   ]
  },
  {
   "cell_type": "code",
   "execution_count": null,
   "id": "1174c8a1-62bd-437b-8e4c-780cacc062f9",
   "metadata": {},
   "outputs": [],
   "source": []
  }
 ],
 "metadata": {
  "kernelspec": {
   "display_name": "Python 3 (ipykernel)",
   "language": "python",
   "name": "python3"
  },
  "language_info": {
   "codemirror_mode": {
    "name": "ipython",
    "version": 3
   },
   "file_extension": ".py",
   "mimetype": "text/x-python",
   "name": "python",
   "nbconvert_exporter": "python",
   "pygments_lexer": "ipython3",
   "version": "3.10.8"
  }
 },
 "nbformat": 4,
 "nbformat_minor": 5
}
