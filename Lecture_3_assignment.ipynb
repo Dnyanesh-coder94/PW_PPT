{
 "cells": [
  {
   "cell_type": "markdown",
   "id": "c3cdcca0-2641-408c-9f80-9a0b9121ad2a",
   "metadata": {},
   "source": [
    "##  Question 1 Given an integer array nums of length n and an integer target, find three integers in nums such that the sum is closest to the target. Return the sum of the three integers. You may assume that each input would have exactly one solution."
   ]
  },
  {
   "cell_type": "code",
   "execution_count": 1,
   "id": "76c29405-d7c2-4366-8196-08a005d0aec7",
   "metadata": {},
   "outputs": [],
   "source": [
    "from typing import List, Tuple\n",
    "class Solution:\n",
    "    def threeSumClosest(self, nums: List[int], target: int) -> int:\n",
    "        closet = float('inf')\n",
    "        nums.sort()\n",
    "        for i in range(len(nums) - 2):\n",
    "            l, r = i + 1, len(nums) - 1\n",
    "            while l < r:\n",
    "                sum3 = nums[i] + nums[l] + nums[r]\n",
    "                print(sum3)\n",
    "                if sum3 < target:\n",
    "                    l += 1\n",
    "                else:\n",
    "                    r -=1\n",
    "                if abs(sum3 - target) < abs(closet - target):\n",
    "                    closet = sum3\n",
    "        return closet"
   ]
  },
  {
   "cell_type": "code",
   "execution_count": 2,
   "id": "6a8a5c8a-20cc-4293-b7a1-eab7fbcb2ce6",
   "metadata": {},
   "outputs": [
    {
     "name": "stdout",
     "output_type": "stream",
     "text": [
      "-3\n",
      "-1\n",
      "2\n"
     ]
    },
    {
     "data": {
      "text/plain": [
       "2"
      ]
     },
     "execution_count": 2,
     "metadata": {},
     "output_type": "execute_result"
    }
   ],
   "source": [
    "t = Solution()\n",
    "t.threeSumClosest([-1,2,1,-4],1)"
   ]
  },
  {
   "cell_type": "markdown",
   "id": "ce35b106-1657-4ae4-a2ef-e76f5c3b49f8",
   "metadata": {},
   "source": [
    "## Question 2 Given an array nums of n integers, return an array of all the unique quadruplets [nums[a], nums[b], nums[c], nums[d]] such that: \n",
    "##  ● 0 <= a, b, c, d < n \n",
    "##  ● a, b, c, and d are distinct. \n",
    "##  ● nums[a] + nums[b] + nums[c] + nums[d] == target \n",
    "##  You may return the answer in any order."
   ]
  },
  {
   "cell_type": "code",
   "execution_count": 3,
   "id": "2aac5e42-9370-4db6-a1a9-223a62c218d9",
   "metadata": {},
   "outputs": [],
   "source": [
    "class Solution:\n",
    "    def fourSum(self, nums: List[int], target: int) -> List[List[int]]:\n",
    "        n = len(nums)\n",
    "        nums.sort()\n",
    "        res = []\n",
    "\n",
    "        for i in range(n-3):\n",
    "            # avoid the duplicates while moving i\n",
    "            if i > 0 and nums[i] == nums[i - 1]:\n",
    "                continue\n",
    "            for j in range(i+1, n-2):\n",
    "                # avoid the duplicates while moving j\n",
    "                if j > i + 1 and nums[j] == nums[j - 1]:\n",
    "                    continue\n",
    "                lo = j + 1\n",
    "                hi = n - 1\n",
    "                while lo < hi:\n",
    "                    temp = nums[i] + nums[j] + nums[lo] + nums[hi]\n",
    "                    if temp == target:\n",
    "                        res += [nums[i], nums[j], nums[lo], nums[hi]],\n",
    "\n",
    "                        # skip duplicates\n",
    "                        while lo < hi and nums[lo] == nums[lo + 1]:\n",
    "                            lo += 1\n",
    "                        lo += 1\n",
    "                        while lo < hi and nums[hi] == nums[hi - 1]:\n",
    "                            hi -= 1\n",
    "                        hi -= 1\n",
    "                    elif temp < target:\n",
    "                        lo += 1\n",
    "                    else:\n",
    "                        hi -= 1\n",
    "        return res"
   ]
  },
  {
   "cell_type": "code",
   "execution_count": 4,
   "id": "2be52f19-29e4-455f-aa92-a0cfc61d16f8",
   "metadata": {},
   "outputs": [
    {
     "data": {
      "text/plain": [
       "[[-2, -1, 1, 2], [-2, 0, 0, 2], [-1, 0, 0, 1]]"
      ]
     },
     "execution_count": 4,
     "metadata": {},
     "output_type": "execute_result"
    }
   ],
   "source": [
    "ts = Solution()\n",
    "ts.fourSum([1,0,-1,0,-2,2],0)"
   ]
  },
  {
   "cell_type": "markdown",
   "id": "c4976359-65fb-4ae9-ace3-a467cefa7b40",
   "metadata": {},
   "source": [
    "##  Question 3 A permutation of an array of integers is an arrangement of its members into a sequence or linear order. For example, for arr = [1,2,3], the following are all the permutations of arr: [1,2,3], [1,3,2], [2, 1, 3], [2, 3, 1], [3,1,2], [3,2,1].The next permutation of an array of integers is the next lexicographically greater permutation of its integer. More formally, if all the permutations of the array are sorted in one container according to their lexicographical order, then the next permutation of that array is the permutation that follows it in the sorted container. If such an arrangement is not possible, the array must be rearranged as the lowest possible order (i.e., sorted in ascending order).\n",
    "##  ● For example, the next permutation of arr = [1,2,3] is [1,3,2].\n",
    "##  ● Similarly, the next permutation of arr = [2,3,1] is [3,1,2].\n",
    "##  ● While the next permutation of arr = [3,2,1] is [1,2,3] because [3,2,1] does not have a lexicographical larger rearrangement.\n",
    "##  Given an array of integers nums, find the next permutation of nums.The replacement must be in place and use only constant extra memory."
   ]
  },
  {
   "cell_type": "code",
   "execution_count": 5,
   "id": "7c99b290-1cb7-4d86-99de-610aa7c64bae",
   "metadata": {},
   "outputs": [],
   "source": [
    "class Solution:\n",
    "    def nextPermutation(self, nums: List[int]) -> None:\n",
    "        \"\"\"\n",
    "        Do not return anything, modify nums in-place instead.\n",
    "        \"\"\"\n",
    "        for curr in reversed(range(0, len(nums) - 1)):\n",
    "            if nums[curr] >= nums[curr + 1]:\n",
    "                continue;\n",
    "                \n",
    "            next = curr + 1;\n",
    "            while next < len(nums) and nums[next] > nums[curr]:\n",
    "                next += 1;\n",
    "                \n",
    "            nums[curr], nums[next - 1] = nums[next - 1], nums[curr];\n",
    "            \n",
    "            nums[curr+1:] = reversed(nums[curr+1:])\n",
    "                \n",
    "            return nums;\n",
    "                    \n",
    "        return nums.sort();"
   ]
  },
  {
   "cell_type": "code",
   "execution_count": 6,
   "id": "812b78d5-b666-493c-aadb-40241512cee4",
   "metadata": {},
   "outputs": [
    {
     "name": "stdout",
     "output_type": "stream",
     "text": [
      "[1, 3, 2]\n"
     ]
    }
   ],
   "source": [
    "np = Solution()\n",
    "print(np.nextPermutation([1,2,3]))"
   ]
  },
  {
   "cell_type": "markdown",
   "id": "6ef2e546-9fee-4f9e-97fa-d601a16af2cb",
   "metadata": {},
   "source": [
    "##  Question 4 Given a sorted array of distinct integers and a target value, return the index if the target is found. If not, return the index where it would be if it were inserted in order. You must write an algorithm with O(log n) runtime complexity."
   ]
  },
  {
   "cell_type": "code",
   "execution_count": 7,
   "id": "3971091f-52c3-4501-aa8c-a446c01789e5",
   "metadata": {},
   "outputs": [],
   "source": [
    "class Solution:\n",
    "    def searchInsert(self, nums: List[int], target: int) -> int:\n",
    "        left,right=0,len(nums)-1\n",
    "        while left<=right:\n",
    "            mid=(left+right)//2\n",
    "            if nums[mid]==target:\n",
    "                return mid\n",
    "            elif nums[mid]<target:\n",
    "                left=mid+1\n",
    "            else:\n",
    "                right=mid-1\n",
    "        return left"
   ]
  },
  {
   "cell_type": "code",
   "execution_count": 8,
   "id": "ac42630d-3bec-49d1-a88d-5d6f9658970b",
   "metadata": {},
   "outputs": [
    {
     "data": {
      "text/plain": [
       "2"
      ]
     },
     "execution_count": 8,
     "metadata": {},
     "output_type": "execute_result"
    }
   ],
   "source": [
    "si = Solution()\n",
    "si.searchInsert([1,3,5,6],5)"
   ]
  },
  {
   "cell_type": "markdown",
   "id": "f199367f-65da-4792-a2e0-7692f81ec71c",
   "metadata": {},
   "source": [
    "##  Question 5 You are given a large integer represented as an integer array digits, where each digits[i] is the ith digit of the integer. The digits are ordered from most significant to least significant in left-to-right order. The large integer does not contain any leading 0's. Increment the large integer by one and return the resulting array of digits."
   ]
  },
  {
   "cell_type": "code",
   "execution_count": 9,
   "id": "f6ae8d88-d23f-479a-b14f-38c5da39e42c",
   "metadata": {},
   "outputs": [],
   "source": [
    "class Solution:\n",
    "    def plusOne(self, digits):\n",
    "        strings = \"\"\n",
    "        for number in digits:\n",
    "            strings += str(number)\n",
    "\n",
    "        temp = str(int(strings) +1)\n",
    "\n",
    "        return [int(temp[i]) for i in range(len(temp))]"
   ]
  },
  {
   "cell_type": "code",
   "execution_count": 10,
   "id": "201f6c3d-bac3-4798-9ba3-44d3bfc786d0",
   "metadata": {},
   "outputs": [
    {
     "data": {
      "text/plain": [
       "[1, 2, 4]"
      ]
     },
     "execution_count": 10,
     "metadata": {},
     "output_type": "execute_result"
    }
   ],
   "source": [
    "po = Solution()\n",
    "po.plusOne([1,2,3])"
   ]
  },
  {
   "cell_type": "markdown",
   "id": "e9644184-c5e9-4bec-98fb-599fe51a58cc",
   "metadata": {},
   "source": [
    "##  Question 6 Given a non-empty array of integers nums, every element appears twice except for one. Find that single one. You must implement a solution with a linear runtime complexity and use only constant extra space."
   ]
  },
  {
   "cell_type": "code",
   "execution_count": 11,
   "id": "24597fbe-889b-4079-8f7a-094e7620ab22",
   "metadata": {},
   "outputs": [],
   "source": [
    "class Solution:\n",
    "    def singleNumber(self, nums: List[int]) -> int:\n",
    "        dict = {}  # Create an empty dictionary \n",
    "\n",
    "        # Iterate through each element in nums\n",
    "        for i in nums:\n",
    "            if i not in dict:  # If the element is not in the dictionary\n",
    "                dict[i] = True  # Add it to the dictionary with a value of True\n",
    "            else:\n",
    "                dict[i] = False  # If the element already exists in the dictionary, set its value to False\n",
    "\n",
    "        # Iterate through the key-value pairs in the dictionary\n",
    "        for key, val in dict.items():\n",
    "            if val == True:  # If the value is True (indicating a single occurrence)\n",
    "                return key "
   ]
  },
  {
   "cell_type": "code",
   "execution_count": 12,
   "id": "a4b69609-da0c-4ee1-88dc-f45745e96fbf",
   "metadata": {},
   "outputs": [
    {
     "data": {
      "text/plain": [
       "1"
      ]
     },
     "execution_count": 12,
     "metadata": {},
     "output_type": "execute_result"
    }
   ],
   "source": [
    "sn = Solution()\n",
    "sn.singleNumber([2,2,1])"
   ]
  },
  {
   "cell_type": "markdown",
   "id": "4c5d4e4c-dc90-4d77-ad93-8dd2f7f28978",
   "metadata": {},
   "source": [
    "##  Question 7 You are given an inclusive range [lower, upper] and a sorted unique integer array nums, where all elements are within the inclusive range. A number x is considered missing if x is in the range [lower, upper] and x is not in nums.Return the shortest sorted list of ranges that exactly covers all the missing numbers. That is, no element of nums is included in any of the ranges, and each missing number is covered by one of the ranges."
   ]
  },
  {
   "cell_type": "code",
   "execution_count": 13,
   "id": "67f033ce-a493-4cf8-833a-3d08538aa635",
   "metadata": {},
   "outputs": [],
   "source": [
    "class Solution:\n",
    "    def findMissingRanges(self, nums: List[int], lower: int, upper: int) -> List[str]:\n",
    "        '''\n",
    "        1. \n",
    "        \n",
    "        '''\n",
    "        \n",
    "        if not nums:\n",
    "            return [self.formRange(lower, upper)]\n",
    "        res = []\n",
    "        if nums[0] > lower:\n",
    "            res.append(self.formRange(lower, nums[0]-1))\n",
    "        \n",
    "        for i in range(len(nums)-1):\n",
    "            if nums[i+1] != nums[i] and nums[i+1] > nums[i] +1:\n",
    "                res.append(self.formRange(nums[i]+1, nums[i+1]-1))\n",
    "        \n",
    "        if nums[-1] < upper:\n",
    "            res.append(self.formRange(nums[-1]+1, upper))\n",
    "        return res\n",
    "            \n",
    "        \n",
    "    def formRange(self, low, high):\n",
    "        if low == high:\n",
    "            return str(low)\n",
    "        else:\n",
    "            print(str(low)+ \"->\"+ str(high))\n",
    "            return str(low)+ \"->\"+ str(high)"
   ]
  },
  {
   "cell_type": "code",
   "execution_count": 14,
   "id": "7b448793-76a6-4d36-9b06-03f0fab1738b",
   "metadata": {},
   "outputs": [
    {
     "name": "stdout",
     "output_type": "stream",
     "text": [
      "4->49\n",
      "51->74\n",
      "76->99\n"
     ]
    },
    {
     "data": {
      "text/plain": [
       "['2', '4->49', '51->74', '76->99']"
      ]
     },
     "execution_count": 14,
     "metadata": {},
     "output_type": "execute_result"
    }
   ],
   "source": [
    "f = Solution()\n",
    "f.findMissingRanges([0,1,3,50,75],0,99)"
   ]
  },
  {
   "cell_type": "markdown",
   "id": "a815fa03-64a0-4d13-a139-41816f070037",
   "metadata": {},
   "source": [
    "##  Question 8 Given an array of meeting time intervals where intervals[i] = [starti, endi], determine if a person could attend all meetings."
   ]
  },
  {
   "cell_type": "code",
   "execution_count": 15,
   "id": "4568fd2e-b8f7-4bae-8562-9682d3e76e2a",
   "metadata": {},
   "outputs": [],
   "source": [
    "class Solution:\n",
    "    def canAttendMeetings(self, intervals: List[List[int]]) -> bool:\n",
    "        n = len(intervals)\n",
    "        \n",
    "        def overlap(a, b):\n",
    "            return min(a[1], b[1]) > max(a[0], b[0])\n",
    "        \n",
    "        for i in range(n):\n",
    "            for j in range(i):\n",
    "                if overlap(intervals[i], intervals[j]):\n",
    "                    return False\n",
    "        return True"
   ]
  },
  {
   "cell_type": "code",
   "execution_count": 16,
   "id": "473bb1c2-7ea4-4f87-9d36-b9be380d1be1",
   "metadata": {},
   "outputs": [
    {
     "data": {
      "text/plain": [
       "False"
      ]
     },
     "execution_count": 16,
     "metadata": {},
     "output_type": "execute_result"
    }
   ],
   "source": [
    "c = Solution()\n",
    "c.canAttendMeetings([[0,30],[5,10],[15,20]])"
   ]
  }
 ],
 "metadata": {
  "kernelspec": {
   "display_name": "Python 3 (ipykernel)",
   "language": "python",
   "name": "python3"
  },
  "language_info": {
   "codemirror_mode": {
    "name": "ipython",
    "version": 3
   },
   "file_extension": ".py",
   "mimetype": "text/x-python",
   "name": "python",
   "nbconvert_exporter": "python",
   "pygments_lexer": "ipython3",
   "version": "3.10.8"
  }
 },
 "nbformat": 4,
 "nbformat_minor": 5
}
