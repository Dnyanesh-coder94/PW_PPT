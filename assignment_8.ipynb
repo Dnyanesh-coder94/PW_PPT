{
 "cells": [
  {
   "cell_type": "markdown",
   "id": "7fdda8cd-3713-4325-9abb-ae0891c5f69f",
   "metadata": {},
   "source": [
    "##  Question 1 Given two strings s1 and s2, return *the lowest **ASCII** sum of deleted characters to make two strings equal*."
   ]
  },
  {
   "cell_type": "code",
   "execution_count": null,
   "id": "d6c2f461-fd1d-4341-abf9-4d8cfca80fed",
   "metadata": {},
   "outputs": [],
   "source": [
    "from typing import List, Tuple\n",
    "class Solution:\n",
    "    def minimumDeleteSum(self, s1: str, s2: str) -> int:\n",
    "        n, m = len(s1), len(s2)\n",
    "        prev = [0] * (m+1)\n",
    "        cur = prev.copy()\n",
    "        for i in range(n):\n",
    "            for j in range(m):\n",
    "                if s1[i] == s2[j]: cur[j+1] = prev[j] + ord(s1[i])\n",
    "                else: cur[j+1] = max(cur[j], prev[j+1])\n",
    "            prev, cur = cur, prev\n",
    "        return sum(map(ord, s1+s2)) - 2 * prev[-1]"
   ]
  },
  {
   "cell_type": "code",
   "execution_count": null,
   "id": "7ef0a536-5eac-4049-a1eb-74cdceaddcf0",
   "metadata": {},
   "outputs": [],
   "source": [
    "md=Solution()\n",
    "md.minimumDeleteSum(\"sea\",\"eat\")"
   ]
  },
  {
   "cell_type": "markdown",
   "id": "b101a8e0-44ff-4b9c-b416-8d3ff3efaa25",
   "metadata": {},
   "source": [
    "##  Question 2 Given a string s containing only three types of characters: '(', ')' and '*', return true *if* s *is **valid***.\n",
    "##  The following rules define a **valid** string:\n",
    "##  - Any left parenthesis '(' must have a corresponding right parenthesis ')'.\n",
    "##  - Any right parenthesis ')' must have a corresponding left parenthesis '('.\n",
    "##  - Left parenthesis '(' must go before the corresponding right parenthesis ')'.\n",
    "##  - '*' could be treated as a single right parenthesis ')' or a single left parenthesis '(' or an empty string \"\"."
   ]
  },
  {
   "cell_type": "code",
   "execution_count": null,
   "id": "ea99296e-249a-4097-ad41-12d409fe1d66",
   "metadata": {},
   "outputs": [],
   "source": [
    "class Solution:\n",
    "    def checkValidString(self, s: str) -> bool:\n",
    "        leftMin, leftMax = 0, 0\n",
    "\n",
    "        for c in s:\n",
    "            if c == \"(\":\n",
    "                leftMin += 1\n",
    "                leftMax += 1\n",
    "            elif c == \")\":\n",
    "                leftMin -= 1\n",
    "                leftMax -= 1\n",
    "            else:\n",
    "                leftMin -= 1\n",
    "                leftMax += 1\n",
    "            \n",
    "            if leftMax < 0:\n",
    "                return False\n",
    "            elif leftMin < 0:\n",
    "                leftMin = 0\n",
    "        \n",
    "        return leftMin == 0"
   ]
  },
  {
   "cell_type": "code",
   "execution_count": null,
   "id": "7b010e71-e108-48b7-896f-a97aadedb60f",
   "metadata": {},
   "outputs": [],
   "source": [
    "cv=Solution()\n",
    "cv.checkValidString(\"()\")"
   ]
  },
  {
   "cell_type": "markdown",
   "id": "b44d5c82-6512-46c0-a40e-38c0b075f621",
   "metadata": {},
   "source": [
    "##  Question 3 Given two strings word1 and word2, return *the minimum number of **steps** required to make* word1 *and* word2 *the same*. In one **step**, you can delete exactly one character in either string."
   ]
  },
  {
   "cell_type": "code",
   "execution_count": null,
   "id": "1e1b7a26-7db6-4e1c-8aa3-979ab1dead54",
   "metadata": {},
   "outputs": [],
   "source": [
    "import bisect\n",
    "class Solution:\n",
    "    def minDistance(self, word1: str, word2: str) -> int:\n",
    "        pattern_dict = {}\n",
    "        for i,l in enumerate(word2):\n",
    "            if l in pattern_dict:\n",
    "                pattern_dict[l].append(i)\n",
    "            else:\n",
    "                pattern_dict[l] = [i]\n",
    "                \n",
    "        n = max(len(word1),len(word2))\n",
    "        dp = [n+1] * (n+1)\n",
    "        for l in word1:\n",
    "            if l not in pattern_dict:\n",
    "                continue\n",
    "            for i in reversed(pattern_dict[l]):\n",
    "                index = bisect.bisect_left(dp,i)\n",
    "                dp[index] = i\n",
    "        return len(word1)+len(word2)-2*bisect.bisect_left(dp,n+1)"
   ]
  },
  {
   "cell_type": "code",
   "execution_count": null,
   "id": "1d731f2f-3053-481e-8ec1-49f8da92f949",
   "metadata": {},
   "outputs": [],
   "source": [
    "m=Solution()\n",
    "m.minDistance(\"sea\",\"eat\")"
   ]
  },
  {
   "cell_type": "markdown",
   "id": "31520e6d-3414-45e1-8b19-4109f60453e2",
   "metadata": {},
   "source": [
    "##  Question 4 You need to construct a binary tree from a string consisting of parenthesis and integers. The whole input represents a binary tree. It contains an integer followed by zero, one or two pairs of parenthesis. The integer represents the root's value and a pair of parenthesis contains a child binary tree with the same structure. You always start to construct the **left** child node of the parent first if it exists."
   ]
  },
  {
   "cell_type": "code",
   "execution_count": null,
   "id": "bdf46d53-67ba-4209-ae3b-369bf1abb808",
   "metadata": {},
   "outputs": [],
   "source": [
    "class newNode:\n",
    "    def __init__(self, data):\n",
    "        self.data = data\n",
    "        self.left = self.right = None\n",
    " \n",
    " \n",
    "def preOrder(node):\n",
    "    if (node == None):\n",
    "        return\n",
    "    print(node.data, end=\" \")\n",
    "    preOrder(node.left)\n",
    "    preOrder(node.right)\n",
    " \n",
    " \n",
    "def treeFromStringHelper(si, ei, arr, root):\n",
    " \n",
    "    if si[0] >= ei:\n",
    "        return None\n",
    " \n",
    "    if arr[si[0]] == \"(\":\n",
    " \n",
    "        if arr[si[0]+1] != \")\":\n",
    "            if root.left is None:\n",
    "                if si[0] >= ei:\n",
    "                    return\n",
    "                new_root = newNode(arr[si[0]+1])\n",
    "                root.left = new_root\n",
    "                si[0] += 2\n",
    "                treeFromStringHelper(si, ei, arr, new_root)\n",
    " \n",
    "        else:\n",
    "            si[0] += 2\n",
    " \n",
    "        if root.right is None:\n",
    "            if si[0] >= ei:\n",
    "                return\n",
    " \n",
    "            if arr[si[0]] != \"(\":\n",
    "                si[0] += 1\n",
    "                return\n",
    " \n",
    "            new_root = newNode(arr[si[0]+1])\n",
    "            root.right = new_root\n",
    "            si[0] += 2\n",
    "            treeFromStringHelper(si, ei, arr, new_root)\n",
    "        else:\n",
    "            return\n",
    " \n",
    "    if arr[si[0]] == \")\":\n",
    "        if si[0] >= ei:\n",
    "            return\n",
    "        si[0] += 1\n",
    "        return\n",
    " \n",
    "    return\n",
    " \n",
    " \n",
    "def treeFromString(string):\n",
    " \n",
    "    root = newNode(string[0])\n",
    " \n",
    "    if len(string) > 1:\n",
    "        si = [1]\n",
    "        ei = len(string)-1\n",
    " \n",
    "        treeFromStringHelper(si, ei, string, root)\n",
    " \n",
    "    return root\n",
    " \n",
    "# Driver Code\n",
    "if __name__ == '__main__':\n",
    "    Str = \"4(2(3)(1))(6(5))\"\n",
    "    root = treeFromString(Str)\n",
    "    preOrder(root)"
   ]
  },
  {
   "cell_type": "markdown",
   "id": "71cd0c32-8fac-4bf4-ab93-d72aa09e3305",
   "metadata": {},
   "source": [
    "##  Question 5 Given an array of characters chars, compress it using the following algorithm: \n",
    "##  Begin with an empty string s. For each group of **consecutive repeating characters** in chars:\n",
    "##  - If the group's length is 1, append the character to s.\n",
    "##  - Otherwise, append the character followed by the group's length.\n",
    "##  The compressed string s **should not be returned separately**, but instead, be stored **in the input character array chars**. Note that group lengths that are 10 or longer will be split into multiple characters in chars. After you are done **modifying the input array,** return *the new length of the array*. You must write an algorithm that uses only constant extra space."
   ]
  },
  {
   "cell_type": "code",
   "execution_count": null,
   "id": "56fa30ee-01a2-4c94-a8e9-0769444b0927",
   "metadata": {},
   "outputs": [],
   "source": [
    "class Solution:\n",
    "    def compress(self, chars: List[str]) -> int:\n",
    "        n=len(chars)\n",
    "        left,right,k=0,0,0\n",
    "        while left<n:\n",
    "            left=right\n",
    "            while right<n and chars[right]==chars[left]:\n",
    "                right+=1\n",
    "            chars[k]=chars[left]\n",
    "            k+=1\n",
    "            if (right-left)>1:\n",
    "                for l in str(right-left):\n",
    "                    chars[k]=l\n",
    "                    k+=1\n",
    "            left=right\n",
    "        return k"
   ]
  },
  {
   "cell_type": "code",
   "execution_count": null,
   "id": "7af80b62-c79a-4b07-9cac-ae0cdc0c953d",
   "metadata": {},
   "outputs": [],
   "source": [
    "c=Solution()\n",
    "c.compress([\"a\",\"a\",\"b\",\"b\",\"c\",\"c\",\"c\"])"
   ]
  },
  {
   "cell_type": "markdown",
   "id": "299be6c8-962b-4e90-a739-940ea3fd98c9",
   "metadata": {},
   "source": [
    "##  Question 6 Given two strings s and p, return *an array of all the start indices of* p*'s anagrams in* s. You may return the answer in **any order**. An **Anagram** is a word or phrase formed by rearranging the letters of a different word or phrase, typically using all the original letters exactly once."
   ]
  },
  {
   "cell_type": "code",
   "execution_count": null,
   "id": "ff785cc6-2927-4d47-81f2-7369ddb17c3d",
   "metadata": {},
   "outputs": [],
   "source": [
    "class Solution:\n",
    "    def findAnagrams(self, s: str, p: str) -> List[int]:\n",
    "        window = len(p)\n",
    "        mapper = {}\n",
    "        def __mapper():\n",
    "            nonlocal mapper\n",
    "            for i in p:\n",
    "                if i in mapper.keys(): mapper[i] += 1\n",
    "                else: mapper[i] = 1\n",
    "        __mapper()\n",
    "        ans = []\n",
    "        st = 0\n",
    "        ed = 0\n",
    "        while ed < len(s):\n",
    "            if s[ed] in mapper.keys():\n",
    "                mapper[s[ed]] -= 1\n",
    "                if mapper[s[ed]] == 0:\n",
    "                    del mapper[s[ed]]\n",
    "                if not bool(mapper):\n",
    "                    ans.append(st)\n",
    "                    mapper[s[st]] = 1\n",
    "                    st += 1\n",
    "                ed += 1\n",
    "            else:\n",
    "                if st == ed:\n",
    "                    st = ed = ed + 1\n",
    "                else:\n",
    "                    if s[st] in mapper.keys():\n",
    "                        mapper[s[st]] += 1\n",
    "                    else:\n",
    "                        mapper[s[st]] = 1\n",
    "                    st += 1\n",
    "        return ans           "
   ]
  },
  {
   "cell_type": "code",
   "execution_count": null,
   "id": "84d1fe5e-c29c-4158-b428-27e9e38384a7",
   "metadata": {},
   "outputs": [],
   "source": [
    "fa=Solution()\n",
    "fa.findAnagrams(\"cbaebabacd\",\"abc\")"
   ]
  },
  {
   "cell_type": "markdown",
   "id": "b0814cea-cf86-4d3e-897a-587e73c4e396",
   "metadata": {},
   "source": [
    "##  Question 7 Given an encoded string, return its decoded string. The encoding rule is: k[encoded_string], where the encoded_string inside the square brackets is being repeated exactly k times. Note that k is guaranteed to be a positive integer. You may assume that the input string is always valid; there are no extra white spaces, square brackets are well-formed, etc. Furthermore, you may assume that the original data does not contain any digits and that digits are only for those repeat numbers, k. For example, there will not be input like 3a or 2[4]. The test cases are generated so that the length of the output will never exceed 105.\n"
   ]
  },
  {
   "cell_type": "code",
   "execution_count": null,
   "id": "2090130b-25d4-4ddc-a35d-758049f6a9a8",
   "metadata": {},
   "outputs": [],
   "source": [
    "class Solution:\n",
    "    def decodeString(self, s: str) -> str:\n",
    "\n",
    "        stack=[]\n",
    "\n",
    "        for c in s:\n",
    "            if c!=']':\n",
    "                stack.append(c)\n",
    "            else:\n",
    "                res=''\n",
    "                while stack[-1]!='[':\n",
    "                    res+=stack.pop()\n",
    "                stack.pop()\n",
    "                n=''\n",
    "                while len(stack)!=0 and stack[-1].isdigit()==True:\n",
    "                    n+=stack.pop()\n",
    "                stack.append(res*int(n[::-1]))\n",
    "\n",
    "        return ''.join([word[::-1] for word in stack])"
   ]
  },
  {
   "cell_type": "code",
   "execution_count": null,
   "id": "f69ef6f3-22a6-4c90-8288-b7244625346a",
   "metadata": {},
   "outputs": [],
   "source": [
    "dc=Solution()\n",
    "dc.decodeString(\"3[a]2[bc]\")"
   ]
  },
  {
   "cell_type": "markdown",
   "id": "ba444259-dfc8-4ba1-838a-a460eecb3ff1",
   "metadata": {},
   "source": [
    "##  Question 8 Given two strings s and goal, return true *if you can swap two letters in* s *so the result is equal to* goal*, otherwise, return* false*.* Swapping letters is defined as taking two indices i and j (0-indexed) such that i != j and swapping the characters at s[i] and s[j]. - For example, swapping at indices 0 and 2 in \"abcd\" results in \"cbad\"."
   ]
  },
  {
   "cell_type": "code",
   "execution_count": null,
   "id": "18768efc-5fc8-4b35-8798-870ed3bcb3ad",
   "metadata": {},
   "outputs": [],
   "source": [
    "class Solution:\n",
    "    def buddyStrings(self, s: str, goal: str) -> bool:\n",
    "        n = len(s)\n",
    "        if s == goal:\n",
    "            temp = set(s)\n",
    "            return len(temp) < len(goal)  # Swapping same characters\n",
    "\n",
    "        i = 0\n",
    "        j = n - 1\n",
    "\n",
    "        while i < j and s[i] == goal[i]:\n",
    "            i += 1\n",
    "\n",
    "        while j >= 0 and s[j] == goal[j]:\n",
    "            j -= 1\n",
    "\n",
    "        if i < j:\n",
    "            s_list = list(s)\n",
    "            s_list[i], s_list[j] = s_list[j], s_list[i]\n",
    "            s = ''.join(s_list)\n",
    "\n",
    "        return s == goal"
   ]
  },
  {
   "cell_type": "code",
   "execution_count": null,
   "id": "03687732-9434-4fde-b99b-341e42df5858",
   "metadata": {},
   "outputs": [],
   "source": [
    "bs=Solution()\n",
    "bs.buddyStrings(\"ab\",\"ba\")"
   ]
  },
  {
   "cell_type": "code",
   "execution_count": null,
   "id": "ac7452ee-9bb8-46ba-95c4-d87229a3e902",
   "metadata": {},
   "outputs": [],
   "source": []
  }
 ],
 "metadata": {
  "kernelspec": {
   "display_name": "Python 3 (ipykernel)",
   "language": "python",
   "name": "python3"
  },
  "language_info": {
   "codemirror_mode": {
    "name": "ipython",
    "version": 3
   },
   "file_extension": ".py",
   "mimetype": "text/x-python",
   "name": "python",
   "nbconvert_exporter": "python",
   "pygments_lexer": "ipython3",
   "version": "3.10.8"
  }
 },
 "nbformat": 4,
 "nbformat_minor": 5
}
